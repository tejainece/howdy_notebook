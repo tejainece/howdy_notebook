{
 "cells": [
  {
   "cell_type": "code",
   "execution_count": 1,
   "id": "07e73741-78c3-4e19-b796-6a25ea5e7fea",
   "metadata": {},
   "outputs": [],
   "source": [
    "import argparse\n",
    "import importlib\n",
    "\n",
    "import torch\n",
    "from safetensors.torch import save_file, load_file\n",
    "\n",
    "from diffusers.pipelines.stable_diffusion.convert_from_ckpt import download_from_original_stable_diffusion_ckpt"
   ]
  },
  {
   "cell_type": "code",
   "execution_count": 2,
   "id": "e0a52aa8-ce97-427f-81f9-956e4f21f2b5",
   "metadata": {},
   "outputs": [],
   "source": [
    "ckpt_path=\"./models/lora_1_5/magicalPotions_version1.ckpt\""
   ]
  },
  {
   "cell_type": "code",
   "execution_count": 3,
   "id": "41c1d42a-604f-4740-9b98-d65c01e1847f",
   "metadata": {},
   "outputs": [
    {
     "name": "stderr",
     "output_type": "stream",
     "text": [
      "`text_config_dict` is provided which will be used to initialize `CLIPTextConfig`. The value `text_config[\"id2label\"]` will be overriden.\n",
      "`text_config_dict` is provided which will be used to initialize `CLIPTextConfig`. The value `text_config[\"bos_token_id\"]` will be overriden.\n",
      "`text_config_dict` is provided which will be used to initialize `CLIPTextConfig`. The value `text_config[\"eos_token_id\"]` will be overriden.\n",
      "/home/tejag/projects/howdy_notebook/venv/lib/python3.11/site-packages/transformers/models/clip/feature_extraction_clip.py:28: FutureWarning: The class CLIPFeatureExtractor is deprecated and will be removed in version 5 of Transformers. Please use CLIPImageProcessor instead.\n",
      "  warnings.warn(\n"
     ]
    }
   ],
   "source": [
    "pipe = download_from_original_stable_diffusion_ckpt(\n",
    "    checkpoint_path=ckpt_path,\n",
    "    scheduler_type='pndm',\n",
    ")\n",
    "\n",
    "#pipe.save_pretrained(args.dump_path, safe_serialization=args.to_safetensors)"
   ]
  },
  {
   "cell_type": "code",
   "execution_count": 5,
   "id": "6ea1bae9-12f3-4778-85a0-1b650bae6cf5",
   "metadata": {},
   "outputs": [],
   "source": [
    "import torch.nn as nn\n",
    "import torch.nn.functional as F\n",
    "from diffusers.models.attention_processor import LoRAAttnProcessor2_0\n",
    "from diffusers.loaders import AttnProcsLayers\n",
    "\n",
    "def create_unet_lora_layers(unet: nn.Module):\n",
    "    lora_attn_procs = {}\n",
    "    for name in pipe.unet.attn_processors.keys():\n",
    "        cross_attention_dim = None if name.endswith(\"attn1.processor\") else unet.config.cross_attention_dim\n",
    "        if name.startswith(\"mid_block\"):\n",
    "            hidden_size = unet.config.block_out_channels[-1]\n",
    "        elif name.startswith(\"up_blocks\"):\n",
    "            block_id = int(name[len(\"up_blocks.\")])\n",
    "            hidden_size = list(reversed(unet.config.block_out_channels))[block_id]\n",
    "        elif name.startswith(\"down_blocks\"):\n",
    "            block_id = int(name[len(\"down_blocks.\")])\n",
    "            hidden_size = unet.config.block_out_channels[block_id]\n",
    "        lora_attn_processor_class = (\n",
    "            LoRAAttnProcessor2_0 if hasattr(F, \"scaled_dot_product_attention\") else LoRAAttnProcessor\n",
    "        )\n",
    "        lora_attn_procs[name] = lora_attn_processor_class(\n",
    "            hidden_size=hidden_size, cross_attention_dim=cross_attention_dim\n",
    "        )\n",
    "    \n",
    "    unet_lora_layers = AttnProcsLayers(lora_attn_procs)"
   ]
  },
  {
   "cell_type": "code",
   "execution_count": 6,
   "id": "777dc4f7-bf18-4404-9e1a-efa381a45872",
   "metadata": {},
   "outputs": [],
   "source": [
    "unet_lora_layers = create_unet_lora_layers(pipe.unet)"
   ]
  },
  {
   "cell_type": "code",
   "execution_count": 12,
   "id": "0e992ff3-3407-415e-a92c-ff271395ce64",
   "metadata": {},
   "outputs": [],
   "source": [
    "pipe.save_lora_weights(\n",
    "    save_directory='./models/lora_1_5/',\n",
    "    unet_lora_layers=unet_lora_layers,safe_serialization=True,\n",
    "    weight_name='magicalPotions_version1.safetensors',\n",
    ")"
   ]
  },
  {
   "cell_type": "code",
   "execution_count": 2,
   "id": "bdd40262-2fa0-4ec0-b501-c6e74fc346ef",
   "metadata": {},
   "outputs": [],
   "source": [
    "import safetensors.torch as t"
   ]
  },
  {
   "cell_type": "code",
   "execution_count": 14,
   "id": "579f8ea9-100b-4c78-aa0b-83a07a49abef",
   "metadata": {},
   "outputs": [
    {
     "ename": "SafetensorError",
     "evalue": "Error while deserializing header: InvalidHeaderDeserialization",
     "output_type": "error",
     "traceback": [
      "\u001b[0;31m---------------------------------------------------------------------------\u001b[0m",
      "\u001b[0;31mSafetensorError\u001b[0m                           Traceback (most recent call last)",
      "Cell \u001b[0;32mIn[14], line 1\u001b[0m\n\u001b[0;32m----> 1\u001b[0m \u001b[43mt\u001b[49m\u001b[38;5;241;43m.\u001b[39;49m\u001b[43mload_file\u001b[49m\u001b[43m(\u001b[49m\u001b[43mfilename\u001b[49m\u001b[38;5;241;43m=\u001b[39;49m\u001b[38;5;124;43m'\u001b[39;49m\u001b[38;5;124;43m./models/lora_1_5/magicalPotions_version1.safetensors\u001b[39;49m\u001b[38;5;124;43m'\u001b[39;49m\u001b[43m)\u001b[49m\n",
      "File \u001b[0;32m~/projects/howdy_notebook/venv/lib/python3.11/site-packages/safetensors/torch.py:309\u001b[0m, in \u001b[0;36mload_file\u001b[0;34m(filename, device)\u001b[0m\n\u001b[1;32m    286\u001b[0m \u001b[38;5;250m\u001b[39m\u001b[38;5;124;03m\"\"\"\u001b[39;00m\n\u001b[1;32m    287\u001b[0m \u001b[38;5;124;03mLoads a safetensors file into torch format.\u001b[39;00m\n\u001b[1;32m    288\u001b[0m \n\u001b[0;32m   (...)\u001b[0m\n\u001b[1;32m    306\u001b[0m \u001b[38;5;124;03m```\u001b[39;00m\n\u001b[1;32m    307\u001b[0m \u001b[38;5;124;03m\"\"\"\u001b[39;00m\n\u001b[1;32m    308\u001b[0m result \u001b[38;5;241m=\u001b[39m {}\n\u001b[0;32m--> 309\u001b[0m \u001b[38;5;28;01mwith\u001b[39;00m \u001b[43msafe_open\u001b[49m\u001b[43m(\u001b[49m\u001b[43mfilename\u001b[49m\u001b[43m,\u001b[49m\u001b[43m \u001b[49m\u001b[43mframework\u001b[49m\u001b[38;5;241;43m=\u001b[39;49m\u001b[38;5;124;43m\"\u001b[39;49m\u001b[38;5;124;43mpt\u001b[39;49m\u001b[38;5;124;43m\"\u001b[39;49m\u001b[43m,\u001b[49m\u001b[43m \u001b[49m\u001b[43mdevice\u001b[49m\u001b[38;5;241;43m=\u001b[39;49m\u001b[43mdevice\u001b[49m\u001b[43m)\u001b[49m \u001b[38;5;28;01mas\u001b[39;00m f:\n\u001b[1;32m    310\u001b[0m     \u001b[38;5;28;01mfor\u001b[39;00m k \u001b[38;5;129;01min\u001b[39;00m f\u001b[38;5;241m.\u001b[39mkeys():\n\u001b[1;32m    311\u001b[0m         result[k] \u001b[38;5;241m=\u001b[39m f\u001b[38;5;241m.\u001b[39mget_tensor(k)\n",
      "\u001b[0;31mSafetensorError\u001b[0m: Error while deserializing header: InvalidHeaderDeserialization"
     ]
    }
   ],
   "source": [
    "t.load_file(filename='./models/lora_1_5/magicalPotions_version1.safetensors')"
   ]
  },
  {
   "cell_type": "code",
   "execution_count": null,
   "id": "f178dcab-07ae-422f-a20d-ee419ff0bdb3",
   "metadata": {},
   "outputs": [],
   "source": [
    "t.load_file('./models/lora_1_5/')"
   ]
  }
 ],
 "metadata": {
  "kernelspec": {
   "display_name": "Python 3 (ipykernel)",
   "language": "python",
   "name": "python3"
  },
  "language_info": {
   "codemirror_mode": {
    "name": "ipython",
    "version": 3
   },
   "file_extension": ".py",
   "mimetype": "text/x-python",
   "name": "python",
   "nbconvert_exporter": "python",
   "pygments_lexer": "ipython3",
   "version": "3.11.4"
  }
 },
 "nbformat": 4,
 "nbformat_minor": 5
}
