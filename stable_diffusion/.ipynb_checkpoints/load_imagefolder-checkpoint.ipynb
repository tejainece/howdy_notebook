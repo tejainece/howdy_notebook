{
 "cells": [
  {
   "cell_type": "code",
   "execution_count": 5,
   "id": "c652259b-ae6e-47a0-b6fe-5111267375b1",
   "metadata": {},
   "outputs": [],
   "source": [
    "from datasets import load_dataset"
   ]
  },
  {
   "cell_type": "code",
   "execution_count": 16,
   "id": "d084c7b2-0415-4635-b116-539ee80efc31",
   "metadata": {},
   "outputs": [
    {
     "data": {
      "application/vnd.jupyter.widget-view+json": {
       "model_id": "d502ee16c7d54fe1971eb13c4064a26b",
       "version_major": 2,
       "version_minor": 0
      },
      "text/plain": [
       "Resolving data files:   0%|          | 0/74 [00:00<?, ?it/s]"
      ]
     },
     "metadata": {},
     "output_type": "display_data"
    },
    {
     "data": {
      "application/vnd.jupyter.widget-view+json": {
       "model_id": "50c0c9664fb643d3b38e30b6332134b6",
       "version_major": 2,
       "version_minor": 0
      },
      "text/plain": [
       "Downloading data files:   0%|          | 0/38 [00:00<?, ?it/s]"
      ]
     },
     "metadata": {},
     "output_type": "display_data"
    },
    {
     "data": {
      "application/vnd.jupyter.widget-view+json": {
       "model_id": "6162708ac1a64849846130ea65a0b1f4",
       "version_major": 2,
       "version_minor": 0
      },
      "text/plain": [
       "Downloading data files:   0%|          | 0/37 [00:00<?, ?it/s]"
      ]
     },
     "metadata": {},
     "output_type": "display_data"
    },
    {
     "data": {
      "application/vnd.jupyter.widget-view+json": {
       "model_id": "45b94be70aed459ca864855139493f66",
       "version_major": 2,
       "version_minor": 0
      },
      "text/plain": [
       "Extracting data files:   0%|          | 0/37 [00:00<?, ?it/s]"
      ]
     },
     "metadata": {},
     "output_type": "display_data"
    },
    {
     "data": {
      "application/vnd.jupyter.widget-view+json": {
       "model_id": "db023fd828e64cbaacc4ecdd8dbe7934",
       "version_major": 2,
       "version_minor": 0
      },
      "text/plain": [
       "Generating train split: 0 examples [00:00, ? examples/s]"
      ]
     },
     "metadata": {},
     "output_type": "display_data"
    }
   ],
   "source": [
    "dataset = load_dataset(\"imagefolder\", data_dir=\"/home/tejag/Pictures/lora_datasets\")"
   ]
  },
  {
   "cell_type": "code",
   "execution_count": 17,
   "id": "c483a69d-7bb2-4d2c-b1be-e6bd99e2df86",
   "metadata": {},
   "outputs": [
    {
     "data": {
      "text/plain": [
       "DatasetDict({\n",
       "    train: Dataset({\n",
       "        features: ['image', 'text'],\n",
       "        num_rows: 36\n",
       "    })\n",
       "})"
      ]
     },
     "execution_count": 17,
     "metadata": {},
     "output_type": "execute_result"
    }
   ],
   "source": [
    "dataset"
   ]
  },
  {
   "cell_type": "code",
   "execution_count": 18,
   "id": "05f5310b-2376-4ff3-92c7-66f9196c8f1f",
   "metadata": {},
   "outputs": [
    {
     "data": {
      "text/plain": [
       "{'train': MemoryMappedTable\n",
       " image: struct<bytes: binary, path: string>\n",
       "   child 0, bytes: binary\n",
       "   child 1, path: string\n",
       " text: string\n",
       " ----\n",
       " image: [\n",
       "   -- is_valid: all not null\n",
       "   -- child 0 type: binary\n",
       " [null,null,null,null,null,...,null,null,null,null,null]\n",
       "   -- child 1 type: string\n",
       " [\"/home/tejag/Pictures/lora_datasets/train/potions/001.jpg\",\"/home/tejag/Pictures/lora_datasets/train/potions/002.jpg\",\"/home/tejag/Pictures/lora_datasets/train/potions/003.jpg\",\"/home/tejag/Pictures/lora_datasets/train/potions/004.jpg\",\"/home/tejag/Pictures/lora_datasets/train/potions/005.jpg\",...,\"/home/tejag/Pictures/lora_datasets/train/potions/032.jpg\",\"/home/tejag/Pictures/lora_datasets/train/potions/033.jpg\",\"/home/tejag/Pictures/lora_datasets/train/potions/034.jpg\",\"/home/tejag/Pictures/lora_datasets/train/potions/035.jpg\",\"/home/tejag/Pictures/lora_datasets/train/potions/036.jpg\"]]\n",
       " text: [[\"a single spherical glass bottle filled with yellow magic potion, gameartpotionbottle, game asset, glowing magical potion, magical potion, single potion bottle, bioluminescent, bioluminescent magical potion, spherical glass bottle, spherical potion bottle, cork potion bottle, metal cork, rendered illustration, rendered art, concept art, magic item, potion bottle leaning left, tag hanging from bottle's neck by a rope, rope around bottle's neck\",\"a single spherical glass bottle filled with green magic potion, healing potion, potion of healing, green potion, bubbles in potion, rope around bottle's neck, gameartpotionbottle, game asset, glowing magical potion, single potion bottle, bioluminescent, bioluminescent magical potion, magical potion, spherical glass bottle, spherical potion bottle, cork potion bottle, wooden cork, rendered art, rendered illustration, concept art, magic item, potion bottle leaning right, bubbles in potion, bubbles in liquid, tag hanging from bottle's neck by a rope\",\"a single spherical glass bottle filled with blue magic potion, mana potion, blue potion, rope around bottle's neck, gameartpotionbottle, game asset, glowing magical potion, bioluminescent, bioluminescent magical potion, magical potion, single potion bottle, spherical glass bottle, spherical potion bottle, cork potion bottle, wooden cork, rendered art, rendered illustration, concept art, magic item, potion bottle leaning right\",\"a single spherical glass bottle filled with blue magic potion, mana potion, blue potion, gameartpotionbottle, game asset, magical potion, bioluminescent, bioluminescent magical potion, glowing magical potion, single potion bottle, spherical glass bottle, spherical potion bottle, cork potion bottle, metal cork, rendered art, rendered illustration, concept art, magic item, potion bottle standing straight\",\"a single rectangular glass bottle filled with yellow magic potion, yellow potion, gameartpotionbottle, game asset, magical potion, bioluminescent, bioluminescent magical potion, glowing magical potion, single potion bottle, rectangular glass bottle, rectangular potion bottle, cork potion bottle, wooden cork, rendered art, rendered illustration, concept art, magic item, potion bottle standing straight, top down view of potion bottle, rope around bottle's neck, tag hanging from bottle's neck by a rope\",...,\"glass bottles filled with magic potion, pink potion, orange potion, yellow potion, green potion, blue potion, purple potion, teal potion, gameartpotionbottle, game asset, glowing magical potion, bioluminescent, bioluminescent magical potion, magical potion, cork potion bottle, wooden cork, rendered art, rendered illustration, concept art, magic item, potion bottle standing straight\",\"a single spherical glass bottle filled with yellow magic potion, yellow potion, gameartpotionbottle, game asset, glowing magical potion, single potion bottle, bioluminescent, yellow bioluminescent magical potion, magical potion, spherical glass bottle, spherical potion bottle, cork potion bottle, wooden cork, rendered art, rendered illustration, concept art, magic item, potion bottle standing straight, potion bottle on wooden bottle holder, rope around bottle's neck\",\"a single spherical glass bottle filled with violet magic potion, violet potion, gameartpotionbottle, game asset, magical potion, bioluminescent, violet bioluminescent magical potion, single potion bottle, spherical glass bottle, spherical potion bottle, cork potion bottle, wooden cork, rendered art, rendered illustration, concept art, magic item, potion bottle leaning left, metal chain around bottle's neck\",\"a single spherical glass bottle filled with violet magic potion, violet potion, gameartpotionbottle, game asset, magical potion, bioluminescent, violet bioluminescent magical potion, single potion bottle, spherical glass bottle, spherical potion bottle, cork potion bottle, metal cork, rendered art, rendered illustration, concept art, magic item, potion bottle standing straight, rope around bottle, tag hanging from bottle's neck by a rope\",\"a single spherical glass bottle filled with green magic potion, green potion, gameartpotionbottle, game asset, magical potion, bioluminescent, green bioluminescent magical potion, single potion bottle, spherical glass bottle, spherical potion bottle, cork potion bottle, metal cork, skull shaped metal cork, rendered art, rendered illustration, concept art, magic item, potion bottle standing straight\"]]}"
      ]
     },
     "execution_count": 18,
     "metadata": {},
     "output_type": "execute_result"
    }
   ],
   "source": [
    "dataset.data"
   ]
  },
  {
   "cell_type": "code",
   "execution_count": 15,
   "id": "4619f332-a394-48f6-9283-cc25ac6edcb7",
   "metadata": {},
   "outputs": [
    {
     "data": {
      "text/plain": [
       "MemoryMappedTable\n",
       "image: struct<bytes: binary, path: string>\n",
       "  child 0, bytes: binary\n",
       "  child 1, path: string\n",
       "----\n",
       "image: [\n",
       "  -- is_valid: all not null\n",
       "  -- child 0 type: binary\n",
       "[null,null,null,null,null,...,null,null,null,null,null]\n",
       "  -- child 1 type: string\n",
       "[\"/home/tejag/Pictures/lora_datasets/train/potions/1.jpg\",\"/home/tejag/Pictures/lora_datasets/train/potions/10.jpg\",\"/home/tejag/Pictures/lora_datasets/train/potions/11.jpg\",\"/home/tejag/Pictures/lora_datasets/train/potions/12.jpg\",\"/home/tejag/Pictures/lora_datasets/train/potions/13.jpg\",...,\"/home/tejag/Pictures/lora_datasets/train/potions/5.jpg\",\"/home/tejag/Pictures/lora_datasets/train/potions/6.jpg\",\"/home/tejag/Pictures/lora_datasets/train/potions/7.jpg\",\"/home/tejag/Pictures/lora_datasets/train/potions/8.jpg\",\"/home/tejag/Pictures/lora_datasets/train/potions/9.jpg\"]]"
      ]
     },
     "execution_count": 15,
     "metadata": {},
     "output_type": "execute_result"
    }
   ],
   "source": [
    "dataset['train'].data"
   ]
  },
  {
   "cell_type": "code",
   "execution_count": null,
   "id": "b90afb54-5a53-4f98-8ac1-b7520e62ad43",
   "metadata": {},
   "outputs": [],
   "source": []
  }
 ],
 "metadata": {
  "kernelspec": {
   "display_name": "Python 3 (ipykernel)",
   "language": "python",
   "name": "python3"
  },
  "language_info": {
   "codemirror_mode": {
    "name": "ipython",
    "version": 3
   },
   "file_extension": ".py",
   "mimetype": "text/x-python",
   "name": "python",
   "nbconvert_exporter": "python",
   "pygments_lexer": "ipython3",
   "version": "3.11.4"
  }
 },
 "nbformat": 4,
 "nbformat_minor": 5
}
