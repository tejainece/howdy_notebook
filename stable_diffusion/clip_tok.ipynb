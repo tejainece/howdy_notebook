{
 "cells": [
  {
   "cell_type": "code",
   "execution_count": 9,
   "id": "a0e2b9c3-8ac4-4768-b3b2-600529d6fcd6",
   "metadata": {},
   "outputs": [],
   "source": [
    "import torch, logging\n",
    "logging.disable(logging.WARNING)  \n",
    "from transformers import CLIPTextModel, CLIPTokenizer"
   ]
  },
  {
   "cell_type": "code",
   "execution_count": 10,
   "id": "bd6122e7-3ec5-4496-ad7d-a5bf9dc04b23",
   "metadata": {},
   "outputs": [],
   "source": [
    "tokenizer = CLIPTokenizer.from_pretrained(\"openai/clip-vit-large-patch14\", torch_dtype=torch.float16)"
   ]
  },
  {
   "cell_type": "code",
   "execution_count": 11,
   "id": "45805f46-1ced-4281-b454-89d7c737c3e2",
   "metadata": {},
   "outputs": [],
   "source": [
    "def doTokenize(text: str):\n",
    "    tok = tokenizer(text, padding=\"max_length\", max_length=tokenizer.model_max_length, truncation=True, return_tensors=\"pt\") \n",
    "    print(f'Words shape: {tok.input_ids.shape}, Attention shape: {tok.attention_mask.shape}')\n",
    "    for token in tok.input_ids[0,:len(text.split()) + 2]:\n",
    "        print(f\"{token}:{tokenizer.convert_ids_to_tokens(token.item())}\")"
   ]
  },
  {
   "cell_type": "code",
   "execution_count": 12,
   "id": "d407d73f-a447-40de-b3c4-69592d873d7d",
   "metadata": {},
   "outputs": [
    {
     "name": "stdout",
     "output_type": "stream",
     "text": [
      "Words shape: torch.Size([1, 77]), Attention shape: torch.Size([1, 77])\n",
      "49406:<|startoftext|>\n",
      "320:a</w>\n",
      "1929:dog</w>\n",
      "3309:wearing</w>\n",
      "3801:hat</w>\n",
      "49407:<|endoftext|>\n"
     ]
    }
   ],
   "source": [
    "doTokenize(\"a dog wearing hat\")"
   ]
  },
  {
   "cell_type": "code",
   "execution_count": 13,
   "id": "b23b6002-c02d-4b5f-93fd-3b1be89e3ac2",
   "metadata": {},
   "outputs": [
    {
     "name": "stdout",
     "output_type": "stream",
     "text": [
      "Words shape: torch.Size([1, 77]), Attention shape: torch.Size([1, 77])\n",
      "49406:<|startoftext|>\n",
      "320:a</w>\n",
      "2368:cat</w>\n",
      "3309:wearing</w>\n",
      "3801:hat</w>\n",
      "49407:<|endoftext|>\n"
     ]
    }
   ],
   "source": [
    "doTokenize(\"a cat wearing hat\")"
   ]
  },
  {
   "cell_type": "code",
   "execution_count": 20,
   "id": "d9782e1a-f0d2-4d77-ad89-085d81abba31",
   "metadata": {},
   "outputs": [
    {
     "data": {
      "text/plain": [
       "49408"
      ]
     },
     "execution_count": 20,
     "metadata": {},
     "output_type": "execute_result"
    }
   ],
   "source": [
    "vocab = tokenizer.get_vocab()\n",
    "len(vocab)"
   ]
  },
  {
   "cell_type": "code",
   "execution_count": 17,
   "id": "38e824cd-4e2c-42da-93cf-10bd9e38cbf8",
   "metadata": {},
   "outputs": [
    {
     "data": {
      "text/plain": [
       "6407"
      ]
     },
     "execution_count": 17,
     "metadata": {},
     "output_type": "execute_result"
    }
   ],
   "source": [
    "vocab['queen']"
   ]
  }
 ],
 "metadata": {
  "kernelspec": {
   "display_name": "Python 3 (ipykernel)",
   "language": "python",
   "name": "python3"
  },
  "language_info": {
   "codemirror_mode": {
    "name": "ipython",
    "version": 3
   },
   "file_extension": ".py",
   "mimetype": "text/x-python",
   "name": "python",
   "nbconvert_exporter": "python",
   "pygments_lexer": "ipython3",
   "version": "3.11.4"
  }
 },
 "nbformat": 4,
 "nbformat_minor": 5
}
