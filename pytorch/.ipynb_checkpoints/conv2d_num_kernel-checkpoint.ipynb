{
 "cells": [
  {
   "cell_type": "code",
   "execution_count": 4,
   "id": "f7b4fae1-4abe-4b59-ac34-c7ea7c4cc008",
   "metadata": {},
   "outputs": [],
   "source": [
    "import torch"
   ]
  },
  {
   "cell_type": "code",
   "execution_count": 8,
   "id": "c16833cc-4c91-4ae6-8859-ac79ed7b2b62",
   "metadata": {},
   "outputs": [],
   "source": [
    "c = torch.nn.Conv2d(4, 64, 3)"
   ]
  },
  {
   "cell_type": "code",
   "execution_count": 9,
   "id": "2f2af67c-1994-4f99-a47a-69512449585b",
   "metadata": {},
   "outputs": [
    {
     "data": {
      "text/plain": [
       "torch.Size([64, 4, 3, 3])"
      ]
     },
     "execution_count": 9,
     "metadata": {},
     "output_type": "execute_result"
    }
   ],
   "source": [
    "c.weight.shape"
   ]
  },
  {
   "cell_type": "code",
   "execution_count": 11,
   "id": "8ba2c4fb-e96d-4c9e-bddd-8c8ece203161",
   "metadata": {},
   "outputs": [],
   "source": [
    "m = torch.nn.Conv2d(2, 4, 3)\n",
    "input = torch.randn(20, 2, 12, 100)\n",
    "output = m(input)"
   ]
  },
  {
   "cell_type": "code",
   "execution_count": 12,
   "id": "ddc61345-719e-474e-9005-1be8793147a8",
   "metadata": {},
   "outputs": [
    {
     "name": "stdout",
     "output_type": "stream",
     "text": [
      "torch.Size([20, 16, 50, 100])\n",
      "torch.Size([20, 33, 26, 100])\n"
     ]
    }
   ],
   "source": [
    "print(input.shape)\n",
    "print(output.shape)"
   ]
  },
  {
   "cell_type": "code",
   "execution_count": null,
   "id": "e0c23b07-fef5-46b4-8457-274556f3e991",
   "metadata": {},
   "outputs": [],
   "source": []
  }
 ],
 "metadata": {
  "kernelspec": {
   "display_name": "Python 3 (ipykernel)",
   "language": "python",
   "name": "python3"
  },
  "language_info": {
   "codemirror_mode": {
    "name": "ipython",
    "version": 3
   },
   "file_extension": ".py",
   "mimetype": "text/x-python",
   "name": "python",
   "nbconvert_exporter": "python",
   "pygments_lexer": "ipython3",
   "version": "3.11.6"
  }
 },
 "nbformat": 4,
 "nbformat_minor": 5
}
