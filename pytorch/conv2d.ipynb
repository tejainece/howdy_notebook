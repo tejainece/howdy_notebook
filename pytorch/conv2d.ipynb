{
 "cells": [
  {
   "cell_type": "code",
   "execution_count": 30,
   "id": "f7b4fae1-4abe-4b59-ac34-c7ea7c4cc008",
   "metadata": {},
   "outputs": [],
   "source": [
    "import torch\n",
    "import numpy as np"
   ]
  },
  {
   "cell_type": "code",
   "execution_count": 31,
   "id": "c16833cc-4c91-4ae6-8859-ac79ed7b2b62",
   "metadata": {},
   "outputs": [],
   "source": [
    "def makeTensor(size):\n",
    "    np.random.seed(0)\n",
    "    nums = [np.random.randint(0xFFFFFFFF)/0xFFFFFFFF for i in range(torch.Size(size).numel())]\n",
    "    return torch.Tensor(nums).reshape(size)"
   ]
  },
  {
   "cell_type": "code",
   "execution_count": 35,
   "id": "b85dd968-e9bb-47cc-a3a3-ccb7fd568d2b",
   "metadata": {},
   "outputs": [
    {
     "data": {
      "text/plain": [
       "tensor([[[-0.0605]]], grad_fn=<SqueezeBackward1>)"
      ]
     },
     "execution_count": 35,
     "metadata": {},
     "output_type": "execute_result"
    }
   ],
   "source": [
    "torch.nn.Conv2d(1, 1, 3)(makeTensor((1, 3,3)))"
   ]
  },
  {
   "cell_type": "code",
   "execution_count": null,
   "id": "5bbc1685-dfd6-4df9-b684-7ccede096dfb",
   "metadata": {},
   "outputs": [],
   "source": []
  }
 ],
 "metadata": {
  "kernelspec": {
   "display_name": "Python 3 (ipykernel)",
   "language": "python",
   "name": "python3"
  },
  "language_info": {
   "codemirror_mode": {
    "name": "ipython",
    "version": 3
   },
   "file_extension": ".py",
   "mimetype": "text/x-python",
   "name": "python",
   "nbconvert_exporter": "python",
   "pygments_lexer": "ipython3",
   "version": "3.11.6"
  }
 },
 "nbformat": 4,
 "nbformat_minor": 5
}
