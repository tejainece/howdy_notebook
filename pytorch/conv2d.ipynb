{
 "cells": [
  {
   "cell_type": "code",
   "execution_count": 20,
   "id": "f7b4fae1-4abe-4b59-ac34-c7ea7c4cc008",
   "metadata": {},
   "outputs": [],
   "source": [
    "import torch\n",
    "from torch import nn\n",
    "import numpy as np"
   ]
  },
  {
   "cell_type": "code",
   "execution_count": 21,
   "id": "c16833cc-4c91-4ae6-8859-ac79ed7b2b62",
   "metadata": {},
   "outputs": [],
   "source": [
    "def makeTensor(size):\n",
    "    np.random.seed(0)\n",
    "    nums = [np.random.randint(0xFFFFFFFF)/0xFFFFFFFF for i in range(torch.Size(size).numel())]\n",
    "    return torch.Tensor(nums).reshape(size)"
   ]
  },
  {
   "cell_type": "code",
   "execution_count": 17,
   "id": "de54b82e-a7c6-4f0e-96ff-46d0a424bb25",
   "metadata": {},
   "outputs": [
    {
     "data": {
      "text/plain": [
       "tensor([[[29.8410]]], grad_fn=<SqueezeBackward1>)"
      ]
     },
     "execution_count": 17,
     "metadata": {},
     "output_type": "execute_result"
    }
   ],
   "source": [
    "# conv(makeTensor((1, 3, 3)))"
   ]
  },
  {
   "cell_type": "code",
   "execution_count": 31,
   "id": "6eb89d1f-0cf6-4ac0-a7d9-d5ff1e1d3a99",
   "metadata": {},
   "outputs": [],
   "source": [
    "def test2Inp1Out():\n",
    "    conv = torch.nn.Conv2d(2, 1, 3)\n",
    "    weights = torch.as_tensor([x + 1.0 for x in range(2 * 3 * 3)]).reshape((1, 2, 3, 3))\n",
    "    with torch.no_grad():\n",
    "        conv.weight = nn.Parameter(weights)\n",
    "    inp = torch.as_tensor([x + 1.0 for x in range(2 * 3 * 3)]).reshape((1, 2, 3, 3))\n",
    "    out = conv(inp)\n",
    "    print(out)\n",
    "test2Inp1Out()"
   ]
  },
  {
   "cell_type": "code",
   "execution_count": 47,
   "id": "f750ead8-baa9-40ec-88be-5da23162f20c",
   "metadata": {},
   "outputs": [
    {
     "name": "stdout",
     "output_type": "stream",
     "text": [
      "tensor([[[[2109.]],\n",
      "\n",
      "         [[5187.]]]], grad_fn=<ConvolutionBackward0>)\n"
     ]
    }
   ],
   "source": [
    "def test2Inp2Out():\n",
    "    conv = torch.nn.Conv2d(2, 2, 3, bias=False)\n",
    "    weights = torch.as_tensor([x + 1.0 for x in range(2 * 2 * 3 * 3)]).reshape((2, 2, 3, 3))\n",
    "    with torch.no_grad():\n",
    "        conv.weight = nn.Parameter(weights)\n",
    "    inp = torch.as_tensor([x + 1.0 for x in range(2 * 3 * 3)]).reshape((1, 2, 3, 3))\n",
    "    out = conv(inp)\n",
    "    print(out)\n",
    "test2Inp2Out()"
   ]
  },
  {
   "cell_type": "code",
   "execution_count": 45,
   "id": "4d71a9a4-c253-4b8b-ab95-03b0469d0590",
   "metadata": {},
   "outputs": [
    {
     "name": "stdout",
     "output_type": "stream",
     "text": [
      "tensor([[[[ 285.]],\n",
      "\n",
      "         [[1824.]]]], grad_fn=<ConvolutionBackward0>)\n"
     ]
    }
   ],
   "source": [
    "def test2Inp2Out2Groups():\n",
    "    conv = torch.nn.Conv2d(2, 2, 3, groups=2, bias=False)\n",
    "    with torch.no_grad():\n",
    "        weights = torch.as_tensor([x + 1.0 for x in range(2 * 1 * 3 * 3)]).reshape((2, 1, 3, 3))\n",
    "        conv.weight = nn.Parameter(weights)\n",
    "    inp = torch.as_tensor([x + 1.0 for x in range(2 * 3 * 3)]).reshape((1, 2, 3, 3))\n",
    "    out = conv(inp)\n",
    "    print(out)\n",
    "test2Inp2Out2Groups()"
   ]
  },
  {
   "cell_type": "code",
   "execution_count": null,
   "id": "46a3e070-93db-4158-837a-96003028e468",
   "metadata": {},
   "outputs": [],
   "source": []
  }
 ],
 "metadata": {
  "kernelspec": {
   "display_name": "Python 3 (ipykernel)",
   "language": "python",
   "name": "python3"
  },
  "language_info": {
   "codemirror_mode": {
    "name": "ipython",
    "version": 3
   },
   "file_extension": ".py",
   "mimetype": "text/x-python",
   "name": "python",
   "nbconvert_exporter": "python",
   "pygments_lexer": "ipython3",
   "version": "3.11.6"
  }
 },
 "nbformat": 4,
 "nbformat_minor": 5
}
