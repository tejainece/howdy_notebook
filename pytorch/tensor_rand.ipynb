{
 "cells": [
  {
   "cell_type": "code",
   "execution_count": 1,
   "id": "1ab21c7c-333c-4dc5-8030-0f6ad384ad8f",
   "metadata": {},
   "outputs": [],
   "source": [
    "import torch\n",
    "import numpy as np"
   ]
  },
  {
   "cell_type": "code",
   "execution_count": 25,
   "id": "d44723e7-681e-4238-91da-9bfc19bd798b",
   "metadata": {},
   "outputs": [
    {
     "data": {
      "text/plain": [
       "tensor([[0.5488, 0.5928, 0.7152, 0.8443, 0.6028],\n",
       "        [0.8579, 0.5449, 0.8473, 0.4237, 0.6236],\n",
       "        [0.6459, 0.3844, 0.4376, 0.2975, 0.8918],\n",
       "        [0.0567, 0.9637, 0.2727, 0.3834, 0.4777],\n",
       "        [0.7917, 0.8122, 0.5289, 0.4800, 0.5680]])"
      ]
     },
     "execution_count": 25,
     "metadata": {},
     "output_type": "execute_result"
    }
   ],
   "source": [
    "def makeTensor(size):\n",
    "    np.random.seed(0)\n",
    "    nums = [np.random.randint(0xFFFFFFFF)/0xFFFFFFFF for i in range(torch.Size(size).numel())]\n",
    "    return torch.Tensor(nums).reshape(size)\n",
    "\n",
    "makeTensor((5,5))"
   ]
  },
  {
   "cell_type": "code",
   "execution_count": null,
   "id": "1949a7ac-f360-4fa1-abfb-6b3207990501",
   "metadata": {},
   "outputs": [],
   "source": []
  }
 ],
 "metadata": {
  "kernelspec": {
   "display_name": "Python 3 (ipykernel)",
   "language": "python",
   "name": "python3"
  },
  "language_info": {
   "codemirror_mode": {
    "name": "ipython",
    "version": 3
   },
   "file_extension": ".py",
   "mimetype": "text/x-python",
   "name": "python",
   "nbconvert_exporter": "python",
   "pygments_lexer": "ipython3",
   "version": "3.11.6"
  }
 },
 "nbformat": 4,
 "nbformat_minor": 5
}
