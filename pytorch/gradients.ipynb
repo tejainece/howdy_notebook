{
 "cells": [
  {
   "cell_type": "code",
   "execution_count": 89,
   "id": "6148b976-589f-4620-a83b-c14d4dcebc88",
   "metadata": {},
   "outputs": [],
   "source": [
    "import torch"
   ]
  },
  {
   "cell_type": "code",
   "execution_count": 90,
   "id": "73e23182-8615-4e64-9eae-7658a869a32b",
   "metadata": {},
   "outputs": [],
   "source": [
    "l1 = torch.nn.Linear(2, 5).to('cuda')\n",
    "l2 = torch.nn.Linear(5, 2).to('cuda')\n",
    "net = torch.nn.Sequential(l1, l2)\n",
    "optimizer = torch.optim.Adam(net.parameters(), lr=0.001)\n",
    "lf = torch.nn.MSELoss()"
   ]
  },
  {
   "cell_type": "code",
   "execution_count": 91,
   "id": "4712a4b9-5234-4661-a4a8-6c95f044dd55",
   "metadata": {},
   "outputs": [],
   "source": [
    "x = torch.as_tensor([x for x in range(3 * 2)]).reshape((3,2)).to('cuda').float()"
   ]
  },
  {
   "cell_type": "code",
   "execution_count": 92,
   "id": "a0e54d54-c813-42fc-8571-f446f6608da0",
   "metadata": {},
   "outputs": [
    {
     "data": {
      "text/plain": [
       "tensor([[0.4067, 0.5460],\n",
       "        [0.8322, 1.5120],\n",
       "        [1.2577, 2.4779]], device='cuda:0', grad_fn=<AddmmBackward0>)"
      ]
     },
     "execution_count": 92,
     "metadata": {},
     "output_type": "execute_result"
    }
   ],
   "source": [
    "out = net(x)\n",
    "out"
   ]
  },
  {
   "cell_type": "code",
   "execution_count": 93,
   "id": "a03ead74-3d1c-4d29-861f-fe486ebaeded",
   "metadata": {},
   "outputs": [
    {
     "data": {
      "text/plain": [
       "tensor(0.2633, device='cuda:0', grad_fn=<MseLossBackward0>)"
      ]
     },
     "execution_count": 93,
     "metadata": {},
     "output_type": "execute_result"
    }
   ],
   "source": [
    "loss = lf(out, out + torch.rand(3, 2).to('cuda'))\n",
    "loss"
   ]
  },
  {
   "cell_type": "code",
   "execution_count": 94,
   "id": "eb7da15a-f046-4a21-8ca6-3b1ec3177f45",
   "metadata": {},
   "outputs": [],
   "source": [
    "optimizer.zero_grad()\n",
    "loss.backward()"
   ]
  },
  {
   "cell_type": "code",
   "execution_count": 95,
   "id": "83442682-a52f-4721-b69c-164c2aed3a99",
   "metadata": {},
   "outputs": [
    {
     "name": "stderr",
     "output_type": "stream",
     "text": [
      "/tmp/ipykernel_310072/3355736690.py:1: UserWarning: The .grad attribute of a Tensor that is not a leaf Tensor is being accessed. Its .grad attribute won't be populated during autograd.backward(). If you indeed want the .grad field to be populated for a non-leaf Tensor, use .retain_grad() on the non-leaf Tensor. If you access the non-leaf Tensor by mistake, make sure you access the leaf Tensor instead. See github.com/pytorch/pytorch/pull/30531 for more informations. (Triggered internally at aten/src/ATen/core/TensorBody.h:486.)\n",
      "  loss.grad\n"
     ]
    }
   ],
   "source": [
    "loss.grad"
   ]
  },
  {
   "cell_type": "code",
   "execution_count": 96,
   "id": "b44ab377-84f8-494d-abd1-669dc3c05b85",
   "metadata": {},
   "outputs": [],
   "source": [
    "optimizer.step()"
   ]
  },
  {
   "cell_type": "code",
   "execution_count": 97,
   "id": "235d8065-bf61-45a9-8472-0e79eead32d5",
   "metadata": {},
   "outputs": [
    {
     "data": {
      "text/plain": [
       "tensor([[0., 0.],\n",
       "        [0., 0.],\n",
       "        [0., 0.],\n",
       "        [0., 0.],\n",
       "        [0., 0.]], device='cuda:0')"
      ]
     },
     "execution_count": 97,
     "metadata": {},
     "output_type": "execute_result"
    }
   ],
   "source": [
    "l1.weight.grad"
   ]
  },
  {
   "cell_type": "code",
   "execution_count": null,
   "id": "01368c69-711f-47f1-877c-00dc34b60661",
   "metadata": {},
   "outputs": [],
   "source": []
  }
 ],
 "metadata": {
  "kernelspec": {
   "display_name": "Python 3 (ipykernel)",
   "language": "python",
   "name": "python3"
  },
  "language_info": {
   "codemirror_mode": {
    "name": "ipython",
    "version": 3
   },
   "file_extension": ".py",
   "mimetype": "text/x-python",
   "name": "python",
   "nbconvert_exporter": "python",
   "pygments_lexer": "ipython3",
   "version": "3.11.6"
  }
 },
 "nbformat": 4,
 "nbformat_minor": 5
}
