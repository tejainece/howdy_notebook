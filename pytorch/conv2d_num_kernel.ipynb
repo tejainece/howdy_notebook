{
 "cells": [
  {
   "cell_type": "code",
   "execution_count": 4,
   "id": "f7b4fae1-4abe-4b59-ac34-c7ea7c4cc008",
   "metadata": {},
   "outputs": [],
   "source": [
    "import torch"
   ]
  },
  {
   "cell_type": "code",
   "execution_count": 8,
   "id": "c16833cc-4c91-4ae6-8859-ac79ed7b2b62",
   "metadata": {},
   "outputs": [],
   "source": [
    "c = torch.nn.Conv2d(4, 64, 3)"
   ]
  },
  {
   "cell_type": "code",
   "execution_count": 9,
   "id": "2f2af67c-1994-4f99-a47a-69512449585b",
   "metadata": {},
   "outputs": [
    {
     "data": {
      "text/plain": [
       "torch.Size([64, 4, 3, 3])"
      ]
     },
     "execution_count": 9,
     "metadata": {},
     "output_type": "execute_result"
    }
   ],
   "source": [
    "c.weight.shape"
   ]
  },
  {
   "cell_type": "code",
   "execution_count": 13,
   "id": "8ba2c4fb-e96d-4c9e-bddd-8c8ece203161",
   "metadata": {},
   "outputs": [],
   "source": [
    "m = torch.nn.Conv2d(2, 4, 3, padding='same')\n",
    "input = torch.randn(20, 2, 6, 6)\n",
    "output = m(input)"
   ]
  },
  {
   "cell_type": "code",
   "execution_count": 15,
   "id": "ddc61345-719e-474e-9005-1be8793147a8",
   "metadata": {},
   "outputs": [
    {
     "name": "stdout",
     "output_type": "stream",
     "text": [
      "torch.Size([20, 2, 6, 6])\n",
      "torch.Size([20, 4, 4, 4])\n",
      "torch.Size([4, 2, 3, 3])\n"
     ]
    }
   ],
   "source": [
    "print(input.shape)\n",
    "print(output.shape)\n",
    "print(m.weight.shape)"
   ]
  },
  {
   "cell_type": "code",
   "execution_count": 33,
   "id": "e0c23b07-fef5-46b4-8457-274556f3e991",
   "metadata": {},
   "outputs": [],
   "source": [
    "m = torch.nn.Conv2d(16, 128, 3, padding='same', groups=2)\n",
    "input = torch.randn(20, 16, 6, 6)\n",
    "output = m(input)"
   ]
  },
  {
   "cell_type": "code",
   "execution_count": 34,
   "id": "2d7c8ff6-b0c6-4f4c-b17a-5463aa6cbedc",
   "metadata": {},
   "outputs": [
    {
     "name": "stdout",
     "output_type": "stream",
     "text": [
      "torch.Size([20, 16, 6, 6])\n",
      "torch.Size([20, 128, 6, 6])\n",
      "torch.Size([128, 8, 3, 3])\n"
     ]
    }
   ],
   "source": [
    "print(input.shape)\n",
    "print(output.shape)\n",
    "print(m.weight.shape)"
   ]
  },
  {
   "cell_type": "code",
   "execution_count": null,
   "id": "5112ebe2-8775-44e5-b129-5ab5828bc63a",
   "metadata": {},
   "outputs": [],
   "source": []
  }
 ],
 "metadata": {
  "kernelspec": {
   "display_name": "Python 3 (ipykernel)",
   "language": "python",
   "name": "python3"
  },
  "language_info": {
   "codemirror_mode": {
    "name": "ipython",
    "version": 3
   },
   "file_extension": ".py",
   "mimetype": "text/x-python",
   "name": "python",
   "nbconvert_exporter": "python",
   "pygments_lexer": "ipython3",
   "version": "3.11.6"
  }
 },
 "nbformat": 4,
 "nbformat_minor": 5
}
