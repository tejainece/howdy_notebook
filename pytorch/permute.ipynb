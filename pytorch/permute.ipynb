{
 "cells": [
  {
   "cell_type": "code",
   "execution_count": 1,
   "id": "a6ea8666-937a-4947-9b65-d40226c4e04d",
   "metadata": {},
   "outputs": [],
   "source": [
    "import torch"
   ]
  },
  {
   "cell_type": "code",
   "execution_count": 11,
   "id": "479cf497-69aa-41ab-aada-0a2a32cad023",
   "metadata": {},
   "outputs": [
    {
     "data": {
      "text/plain": [
       "tensor([[[ 0,  1,  2,  3],\n",
       "         [ 4,  5,  6,  7],\n",
       "         [ 8,  9, 10, 11]],\n",
       "\n",
       "        [[12, 13, 14, 15],\n",
       "         [16, 17, 18, 19],\n",
       "         [20, 21, 22, 23]]])"
      ]
     },
     "execution_count": 11,
     "metadata": {},
     "output_type": "execute_result"
    }
   ],
   "source": [
    "data = [x for x in range(2 * 3 * 4)]\n",
    "t = torch.as_tensor(data).reshape((2, 3, 4))\n",
    "t"
   ]
  },
  {
   "cell_type": "code",
   "execution_count": 12,
   "id": "2f869aad-684e-48a2-b53f-3133fe7858c8",
   "metadata": {},
   "outputs": [
    {
     "data": {
      "text/plain": [
       "tensor([[[ 0, 12],\n",
       "         [ 4, 16],\n",
       "         [ 8, 20]],\n",
       "\n",
       "        [[ 1, 13],\n",
       "         [ 5, 17],\n",
       "         [ 9, 21]],\n",
       "\n",
       "        [[ 2, 14],\n",
       "         [ 6, 18],\n",
       "         [10, 22]],\n",
       "\n",
       "        [[ 3, 15],\n",
       "         [ 7, 19],\n",
       "         [11, 23]]])"
      ]
     },
     "execution_count": 12,
     "metadata": {},
     "output_type": "execute_result"
    }
   ],
   "source": [
    "t.permute((2, 1, 0))"
   ]
  },
  {
   "cell_type": "code",
   "execution_count": 15,
   "id": "25c703eb-33fa-44fe-95dd-1dc9c752f80c",
   "metadata": {},
   "outputs": [
    {
     "data": {
      "text/plain": [
       "tensor([[0, 1],\n",
       "        [2, 3]])"
      ]
     },
     "execution_count": 15,
     "metadata": {},
     "output_type": "execute_result"
    }
   ],
   "source": [
    "data1 = [x for x in range(2 * 2)]\n",
    "t1 = torch.as_tensor(data1).reshape((2, 2))\n",
    "t1"
   ]
  },
  {
   "cell_type": "code",
   "execution_count": 16,
   "id": "91ae8080-864f-45ac-805a-fc83990709dc",
   "metadata": {},
   "outputs": [
    {
     "data": {
      "text/plain": [
       "tensor([[0, 2],\n",
       "        [1, 3]])"
      ]
     },
     "execution_count": 16,
     "metadata": {},
     "output_type": "execute_result"
    }
   ],
   "source": [
    "t1.permute((1, 0))"
   ]
  },
  {
   "cell_type": "code",
   "execution_count": 29,
   "id": "be297b06-6f33-40b8-8b4f-7e8d0e806afb",
   "metadata": {},
   "outputs": [
    {
     "name": "stdout",
     "output_type": "stream",
     "text": [
      "torch.Size([2, 3, 4, 5, 6, 7])\n",
      "(2520, 840, 210, 42, 7, 1)\n"
     ]
    }
   ],
   "source": [
    "data2 = [x for x in range(2 * 3 * 4 * 5 * 6 * 7)]\n",
    "t2 = torch.as_tensor(data2).reshape((2, 3, 4, 5, 6, 7))\n",
    "print(t2.shape)\n",
    "print(t2.stride())"
   ]
  },
  {
   "cell_type": "code",
   "execution_count": 30,
   "id": "aeb1cb06-2544-4de3-b44f-71d5614e9178",
   "metadata": {},
   "outputs": [
    {
     "data": {
      "text/plain": [
       "torch.Size([7, 6, 5, 4, 3, 2])"
      ]
     },
     "execution_count": 30,
     "metadata": {},
     "output_type": "execute_result"
    }
   ],
   "source": [
    "t2 = t2.permute((5, 4, 3, 2, 1, 0))\n",
    "t2.shape"
   ]
  },
  {
   "cell_type": "code",
   "execution_count": 31,
   "id": "19dd8e7b-a70a-4c17-8e3e-97e71392a985",
   "metadata": {},
   "outputs": [
    {
     "data": {
      "text/plain": [
       "(1, 7, 42, 210, 840, 2520)"
      ]
     },
     "execution_count": 31,
     "metadata": {},
     "output_type": "execute_result"
    }
   ],
   "source": [
    "t2.stride()"
   ]
  },
  {
   "cell_type": "code",
   "execution_count": 32,
   "id": "74e9accc-4dce-4338-8aa4-ef2042c42dc9",
   "metadata": {},
   "outputs": [
    {
     "data": {
      "text/plain": [
       "2520"
      ]
     },
     "execution_count": 32,
     "metadata": {},
     "output_type": "execute_result"
    }
   ],
   "source": [
    "3 * 4* 5 * 6 * 7"
   ]
  },
  {
   "cell_type": "code",
   "execution_count": null,
   "id": "97ebd7b8-1d09-431c-a0bf-31a40ccbb15f",
   "metadata": {},
   "outputs": [],
   "source": []
  }
 ],
 "metadata": {
  "kernelspec": {
   "display_name": "Python 3 (ipykernel)",
   "language": "python",
   "name": "python3"
  },
  "language_info": {
   "codemirror_mode": {
    "name": "ipython",
    "version": 3
   },
   "file_extension": ".py",
   "mimetype": "text/x-python",
   "name": "python",
   "nbconvert_exporter": "python",
   "pygments_lexer": "ipython3",
   "version": "3.11.6"
  }
 },
 "nbformat": 4,
 "nbformat_minor": 5
}
