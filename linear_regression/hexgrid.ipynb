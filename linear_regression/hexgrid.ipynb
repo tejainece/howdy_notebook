{
 "cells": [
  {
   "cell_type": "code",
   "execution_count": 9,
   "id": "c0b1f714",
   "metadata": {},
   "outputs": [],
   "source": [
    "import numpy as np\n",
    "import pandas as pd\n",
    "from sklearn.linear_model import LinearRegression"
   ]
  },
  {
   "cell_type": "code",
   "execution_count": 19,
   "id": "254548f4",
   "metadata": {},
   "outputs": [
    {
     "data": {
      "text/html": [
       "<div>\n",
       "<style scoped>\n",
       "    .dataframe tbody tr th:only-of-type {\n",
       "        vertical-align: middle;\n",
       "    }\n",
       "\n",
       "    .dataframe tbody tr th {\n",
       "        vertical-align: top;\n",
       "    }\n",
       "\n",
       "    .dataframe thead th {\n",
       "        text-align: right;\n",
       "    }\n",
       "</style>\n",
       "<table border=\"1\" class=\"dataframe\">\n",
       "  <thead>\n",
       "    <tr style=\"text-align: right;\">\n",
       "      <th></th>\n",
       "      <th>q</th>\n",
       "      <th>r</th>\n",
       "      <th>s</th>\n",
       "    </tr>\n",
       "  </thead>\n",
       "  <tbody>\n",
       "  </tbody>\n",
       "</table>\n",
       "</div>"
      ],
      "text/plain": [
       "Empty DataFrame\n",
       "Columns: [q, r, s]\n",
       "Index: []"
      ]
     },
     "execution_count": 19,
     "metadata": {},
     "output_type": "execute_result"
    }
   ],
   "source": [
    "inp=pd.DataFrame(columns=['q','r','s'])\n",
    "inp"
   ]
  },
  {
   "cell_type": "code",
   "execution_count": 20,
   "id": "b9e576bb",
   "metadata": {},
   "outputs": [
    {
     "data": {
      "text/html": [
       "<div>\n",
       "<style scoped>\n",
       "    .dataframe tbody tr th:only-of-type {\n",
       "        vertical-align: middle;\n",
       "    }\n",
       "\n",
       "    .dataframe tbody tr th {\n",
       "        vertical-align: top;\n",
       "    }\n",
       "\n",
       "    .dataframe thead th {\n",
       "        text-align: right;\n",
       "    }\n",
       "</style>\n",
       "<table border=\"1\" class=\"dataframe\">\n",
       "  <thead>\n",
       "    <tr style=\"text-align: right;\">\n",
       "      <th></th>\n",
       "      <th>nq</th>\n",
       "      <th>nr</th>\n",
       "    </tr>\n",
       "  </thead>\n",
       "  <tbody>\n",
       "  </tbody>\n",
       "</table>\n",
       "</div>"
      ],
      "text/plain": [
       "Empty DataFrame\n",
       "Columns: [nq, nr]\n",
       "Index: []"
      ]
     },
     "execution_count": 20,
     "metadata": {},
     "output_type": "execute_result"
    }
   ],
   "source": [
    "out=pd.DataFrame(columns=['nq','nr'])\n",
    "out"
   ]
  },
  {
   "cell_type": "code",
   "execution_count": 21,
   "id": "fbf2b662",
   "metadata": {},
   "outputs": [
    {
     "data": {
      "text/plain": [
       "[q     5\n",
       " r    -2\n",
       " s    -3\n",
       " nq    1\n",
       " nr   -1\n",
       " dtype: int64,\n",
       " q     2\n",
       " r     3\n",
       " s    -5\n",
       " nq    1\n",
       " nr    0\n",
       " dtype: int64,\n",
       " q    -3\n",
       " r     5\n",
       " s    -2\n",
       " nq    0\n",
       " nr    1\n",
       " dtype: int64,\n",
       " q    -5\n",
       " r     2\n",
       " s     3\n",
       " nq   -1\n",
       " nr    1\n",
       " dtype: int64,\n",
       " q    -2\n",
       " r    -3\n",
       " s     5\n",
       " nq   -1\n",
       " nr    0\n",
       " dtype: int64,\n",
       " q     3\n",
       " r    -5\n",
       " s     2\n",
       " nq    0\n",
       " nr   -1\n",
       " dtype: int64]"
      ]
     },
     "execution_count": 21,
     "metadata": {},
     "output_type": "execute_result"
    }
   ],
   "source": [
    "rows = [\n",
    "    pd.Series(data={'q':5,'r':-2,'s':-3,'nq':1,'nr':-1}),\n",
    "    pd.Series(data={'q':2,'r':3,'s':-5,'nq':1,'nr':0}),\n",
    "    pd.Series(data={'q':-3,'r':5,'s':-2,'nq':0,'nr':1}),\n",
    "    pd.Series(data={'q':-5,'r':2,'s':3,'nq':-1,'nr':1}),\n",
    "    pd.Series(data={'q':-2,'r':-3,'s':5,'nq':-1,'nr':0}),\n",
    "    pd.Series(data={'q':3,'r':-5,'s':2,'nq':0,'nr':-1}),\n",
    "]\n",
    "rows"
   ]
  },
  {
   "cell_type": "code",
   "execution_count": 22,
   "id": "d3865df4",
   "metadata": {},
   "outputs": [
    {
     "name": "stdout",
     "output_type": "stream",
     "text": [
      "   q  r  s\n",
      "0  5 -2 -3\n",
      "1  2  3 -5\n",
      "2 -3  5 -2\n",
      "3 -5  2  3\n",
      "4 -2 -3  5\n",
      "5  3 -5  2\n",
      "   nq  nr\n",
      "0   1  -1\n",
      "1   1   0\n",
      "2   0   1\n",
      "3  -1   1\n",
      "4  -1   0\n",
      "5   0  -1\n"
     ]
    }
   ],
   "source": [
    "for r in rows:\n",
    "    inp.loc[len(inp)]=r\n",
    "    out.loc[len(out)]=r\n",
    "print(inp)\n",
    "print(out)"
   ]
  },
  {
   "cell_type": "code",
   "execution_count": 23,
   "id": "c10576c5",
   "metadata": {},
   "outputs": [],
   "source": [
    "reg=LinearRegression().fit(inp,out)"
   ]
  },
  {
   "cell_type": "code",
   "execution_count": 28,
   "id": "ad07f11a",
   "metadata": {},
   "outputs": [
    {
     "name": "stdout",
     "output_type": "stream",
     "text": [
      "[[ 0.12280702  0.01754386 -0.14035088]\n",
      " [-0.14035088  0.12280702  0.01754386]] [0. 0.]\n"
     ]
    },
    {
     "data": {
      "text/plain": [
       "array([[ 0.12280702,  0.01754386, -0.14035088],\n",
       "       [-0.14035088,  0.12280702,  0.01754386]])"
      ]
     },
     "execution_count": 28,
     "metadata": {},
     "output_type": "execute_result"
    }
   ],
   "source": [
    "print(f'{reg.coef_} {reg.intercept_}')\n",
    "reg.coef_"
   ]
  },
  {
   "cell_type": "code",
   "execution_count": 30,
   "id": "a8e1bc11",
   "metadata": {},
   "outputs": [
    {
     "data": {
      "text/plain": [
       "array([[ 1.00000000e+00, -1.00000000e+00],\n",
       "       [ 1.00000000e+00, -6.93889390e-17],\n",
       "       [-5.55111512e-17,  1.00000000e+00],\n",
       "       [-1.00000000e+00,  1.00000000e+00],\n",
       "       [-1.00000000e+00,  6.93889390e-17],\n",
       "       [ 5.55111512e-17, -1.00000000e+00]])"
      ]
     },
     "execution_count": 30,
     "metadata": {},
     "output_type": "execute_result"
    }
   ],
   "source": [
    "reg.predict(inp)"
   ]
  },
  {
   "cell_type": "code",
   "execution_count": null,
   "id": "fc77f9e2",
   "metadata": {},
   "outputs": [],
   "source": []
  }
 ],
 "metadata": {
  "kernelspec": {
   "display_name": "Python 3 (ipykernel)",
   "language": "python",
   "name": "python3"
  },
  "language_info": {
   "codemirror_mode": {
    "name": "ipython",
    "version": 3
   },
   "file_extension": ".py",
   "mimetype": "text/x-python",
   "name": "python",
   "nbconvert_exporter": "python",
   "pygments_lexer": "ipython3",
   "version": "3.10.6"
  }
 },
 "nbformat": 4,
 "nbformat_minor": 5
}
