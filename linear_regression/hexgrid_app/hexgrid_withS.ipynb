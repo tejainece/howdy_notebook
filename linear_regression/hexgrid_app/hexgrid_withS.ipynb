{
 "cells": [
  {
   "cell_type": "code",
   "execution_count": 9,
   "id": "28873fc5",
   "metadata": {},
   "outputs": [],
   "source": [
    "import numpy as np\n",
    "import pandas as pd\n",
    "from sklearn.linear_model import LinearRegression"
   ]
  },
  {
   "cell_type": "code",
   "execution_count": 19,
   "id": "212d6415",
   "metadata": {},
   "outputs": [
    {
     "data": {
      "text/html": [
       "<div>\n",
       "<style scoped>\n",
       "    .dataframe tbody tr th:only-of-type {\n",
       "        vertical-align: middle;\n",
       "    }\n",
       "\n",
       "    .dataframe tbody tr th {\n",
       "        vertical-align: top;\n",
       "    }\n",
       "\n",
       "    .dataframe thead th {\n",
       "        text-align: right;\n",
       "    }\n",
       "</style>\n",
       "<table border=\"1\" class=\"dataframe\">\n",
       "  <thead>\n",
       "    <tr style=\"text-align: right;\">\n",
       "      <th></th>\n",
       "      <th>q</th>\n",
       "      <th>r</th>\n",
       "      <th>s</th>\n",
       "    </tr>\n",
       "  </thead>\n",
       "  <tbody>\n",
       "  </tbody>\n",
       "</table>\n",
       "</div>"
      ],
      "text/plain": [
       "Empty DataFrame\n",
       "Columns: [q, r, s]\n",
       "Index: []"
      ]
     },
     "execution_count": 19,
     "metadata": {},
     "output_type": "execute_result"
    }
   ],
   "source": [
    "inp=pd.DataFrame(columns=['q','r','s'])\n",
    "inp"
   ]
  },
  {
   "cell_type": "code",
   "execution_count": 20,
   "id": "4a5cd96f",
   "metadata": {},
   "outputs": [
    {
     "data": {
      "text/html": [
       "<div>\n",
       "<style scoped>\n",
       "    .dataframe tbody tr th:only-of-type {\n",
       "        vertical-align: middle;\n",
       "    }\n",
       "\n",
       "    .dataframe tbody tr th {\n",
       "        vertical-align: top;\n",
       "    }\n",
       "\n",
       "    .dataframe thead th {\n",
       "        text-align: right;\n",
       "    }\n",
       "</style>\n",
       "<table border=\"1\" class=\"dataframe\">\n",
       "  <thead>\n",
       "    <tr style=\"text-align: right;\">\n",
       "      <th></th>\n",
       "      <th>nq</th>\n",
       "      <th>nr</th>\n",
       "    </tr>\n",
       "  </thead>\n",
       "  <tbody>\n",
       "  </tbody>\n",
       "</table>\n",
       "</div>"
      ],
      "text/plain": [
       "Empty DataFrame\n",
       "Columns: [nq, nr]\n",
       "Index: []"
      ]
     },
     "execution_count": 20,
     "metadata": {},
     "output_type": "execute_result"
    }
   ],
   "source": [
    "out=pd.DataFrame(columns=['nq','nr'])\n",
    "out"
   ]
  },
  {
   "cell_type": "code",
   "execution_count": 21,
   "id": "deeeec7f",
   "metadata": {},
   "outputs": [
    {
     "data": {
      "text/plain": [
       "[q     5\n",
       " r    -2\n",
       " s    -3\n",
       " nq    1\n",
       " nr   -1\n",
       " dtype: int64,\n",
       " q     2\n",
       " r     3\n",
       " s    -5\n",
       " nq    1\n",
       " nr    0\n",
       " dtype: int64,\n",
       " q    -3\n",
       " r     5\n",
       " s    -2\n",
       " nq    0\n",
       " nr    1\n",
       " dtype: int64,\n",
       " q    -5\n",
       " r     2\n",
       " s     3\n",
       " nq   -1\n",
       " nr    1\n",
       " dtype: int64,\n",
       " q    -2\n",
       " r    -3\n",
       " s     5\n",
       " nq   -1\n",
       " nr    0\n",
       " dtype: int64,\n",
       " q     3\n",
       " r    -5\n",
       " s     2\n",
       " nq    0\n",
       " nr   -1\n",
       " dtype: int64]"
      ]
     },
     "execution_count": 21,
     "metadata": {},
     "output_type": "execute_result"
    }
   ],
   "source": [
    "rows = [\n",
    "    pd.Series(data={'q':5,'r':-2,'s':-3,'nq':1,'nr':-1}),\n",
    "    pd.Series(data={'q':2,'r':3,'s':-5,'nq':1,'nr':0}),\n",
    "    pd.Series(data={'q':-3,'r':5,'s':-2,'nq':0,'nr':1}),\n",
    "    pd.Series(data={'q':-5,'r':2,'s':3,'nq':-1,'nr':1}),\n",
    "    pd.Series(data={'q':-2,'r':-3,'s':5,'nq':-1,'nr':0}),\n",
    "    pd.Series(data={'q':3,'r':-5,'s':2,'nq':0,'nr':-1}),\n",
    "]\n",
    "rows"
   ]
  },
  {
   "cell_type": "code",
   "execution_count": 22,
   "id": "30d8d4bc",
   "metadata": {},
   "outputs": [
    {
     "name": "stdout",
     "output_type": "stream",
     "text": [
      "   q  r  s\n",
      "0  5 -2 -3\n",
      "1  2  3 -5\n",
      "2 -3  5 -2\n",
      "3 -5  2  3\n",
      "4 -2 -3  5\n",
      "5  3 -5  2\n",
      "   nq  nr\n",
      "0   1  -1\n",
      "1   1   0\n",
      "2   0   1\n",
      "3  -1   1\n",
      "4  -1   0\n",
      "5   0  -1\n"
     ]
    }
   ],
   "source": [
    "for r in rows:\n",
    "    inp.loc[len(inp)]=r\n",
    "    out.loc[len(out)]=r\n",
    "print(inp)\n",
    "print(out)"
   ]
  },
  {
   "cell_type": "code",
   "execution_count": 23,
   "id": "bf76dfb8",
   "metadata": {},
   "outputs": [],
   "source": [
    "reg=LinearRegression().fit(inp,out)"
   ]
  },
  {
   "cell_type": "code",
   "execution_count": 28,
   "id": "b232cd58",
   "metadata": {},
   "outputs": [
    {
     "name": "stdout",
     "output_type": "stream",
     "text": [
      "[[ 0.12280702  0.01754386 -0.14035088]\n",
      " [-0.14035088  0.12280702  0.01754386]] [0. 0.]\n"
     ]
    },
    {
     "data": {
      "text/plain": [
       "array([[ 0.12280702,  0.01754386, -0.14035088],\n",
       "       [-0.14035088,  0.12280702,  0.01754386]])"
      ]
     },
     "execution_count": 28,
     "metadata": {},
     "output_type": "execute_result"
    }
   ],
   "source": [
    "print(f'{reg.coef_} {reg.intercept_}')\n",
    "reg.coef_"
   ]
  },
  {
   "cell_type": "code",
   "execution_count": 32,
   "id": "50015ebd",
   "metadata": {},
   "outputs": [
    {
     "data": {
      "text/plain": [
       "array([[ 1, -1],\n",
       "       [ 1,  0],\n",
       "       [ 0,  1],\n",
       "       [-1,  1],\n",
       "       [-1,  0],\n",
       "       [ 0, -1]])"
      ]
     },
     "execution_count": 32,
     "metadata": {},
     "output_type": "execute_result"
    }
   ],
   "source": [
    "reg.predict(inp).astype(int)"
   ]
  },
  {
   "cell_type": "code",
   "execution_count": 31,
   "id": "506b712a",
   "metadata": {},
   "outputs": [
    {
     "data": {
      "text/plain": [
       "1.0"
      ]
     },
     "execution_count": 31,
     "metadata": {},
     "output_type": "execute_result"
    }
   ],
   "source": [
    "reg.score(inp,out)"
   ]
  },
  {
   "cell_type": "code",
   "execution_count": 38,
   "id": "1fa6dfad",
   "metadata": {},
   "outputs": [
    {
     "name": "stderr",
     "output_type": "stream",
     "text": [
      "/home/tejag/.local/lib/python3.10/site-packages/sklearn/base.py:450: UserWarning: X does not have valid feature names, but LinearRegression was fitted with feature names\n",
      "  warnings.warn(\n"
     ]
    },
    {
     "data": {
      "text/plain": [
       "array([[ 0, -2],\n",
       "       [-1, -1],\n",
       "       [-1, -2],\n",
       "       [-3, -3]])"
      ]
     },
     "execution_count": 38,
     "metadata": {},
     "output_type": "execute_result"
    }
   ],
   "source": [
    "reg.predict([[6,-10,4],[1,-8,7],[4,-13,9],[3,-24,21]]).astype(int)"
   ]
  },
  {
   "cell_type": "code",
   "execution_count": 46,
   "id": "2ba89c4d",
   "metadata": {},
   "outputs": [],
   "source": [
    "qx=0.12280702\n",
    "qy=0.01754386\n",
    "qz=-0.14035088\n",
    "\n",
    "rx=-0.14035088\n",
    "ry=0.12280702\n",
    "rz=0.01754386"
   ]
  },
  {
   "cell_type": "code",
   "execution_count": 47,
   "id": "688d9a1b",
   "metadata": {},
   "outputs": [
    {
     "name": "stdout",
     "output_type": "stream",
     "text": [
      "0.0\n",
      "-2.00000004\n"
     ]
    }
   ],
   "source": [
    "q=6\n",
    "r=-10\n",
    "s=4\n",
    "print(q*qx+r*qy+s*qz)\n",
    "print(q*rx+r*ry+s*rz)"
   ]
  },
  {
   "cell_type": "code",
   "execution_count": 48,
   "id": "0c6b1db7",
   "metadata": {},
   "outputs": [
    {
     "name": "stdout",
     "output_type": "stream",
     "text": [
      "-1.00000002\n",
      "-1.00000002\n"
     ]
    }
   ],
   "source": [
    "q=1\n",
    "r=-8\n",
    "s=7\n",
    "print(q*qx+r*qy+s*qz)\n",
    "print(q*rx+r*ry+s*rz)"
   ]
  },
  {
   "cell_type": "code",
   "execution_count": null,
   "id": "4fd4fbb8",
   "metadata": {},
   "outputs": [],
   "source": []
  }
 ],
 "metadata": {
  "kernelspec": {
   "display_name": "Python 3 (ipykernel)",
   "language": "python",
   "name": "python3"
  },
  "language_info": {
   "codemirror_mode": {
    "name": "ipython",
    "version": 3
   },
   "file_extension": ".py",
   "mimetype": "text/x-python",
   "name": "python",
   "nbconvert_exporter": "python",
   "pygments_lexer": "ipython3",
   "version": "3.10.6"
  }
 },
 "nbformat": 4,
 "nbformat_minor": 5
}
