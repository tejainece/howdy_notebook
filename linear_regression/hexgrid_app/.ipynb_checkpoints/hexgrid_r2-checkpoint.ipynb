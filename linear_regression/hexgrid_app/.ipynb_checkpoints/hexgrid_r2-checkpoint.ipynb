{
 "cells": [
  {
   "cell_type": "code",
   "execution_count": 112,
   "id": "28873fc5",
   "metadata": {},
   "outputs": [],
   "source": [
    "import numpy as np\n",
    "import pandas as pd\n",
    "from sklearn.linear_model import LinearRegression"
   ]
  },
  {
   "cell_type": "code",
   "execution_count": 113,
   "id": "212d6415",
   "metadata": {},
   "outputs": [
    {
     "data": {
      "text/html": [
       "<div>\n",
       "<style scoped>\n",
       "    .dataframe tbody tr th:only-of-type {\n",
       "        vertical-align: middle;\n",
       "    }\n",
       "\n",
       "    .dataframe tbody tr th {\n",
       "        vertical-align: top;\n",
       "    }\n",
       "\n",
       "    .dataframe thead th {\n",
       "        text-align: right;\n",
       "    }\n",
       "</style>\n",
       "<table border=\"1\" class=\"dataframe\">\n",
       "  <thead>\n",
       "    <tr style=\"text-align: right;\">\n",
       "      <th></th>\n",
       "      <th>rad</th>\n",
       "      <th>q</th>\n",
       "      <th>r</th>\n",
       "    </tr>\n",
       "  </thead>\n",
       "  <tbody>\n",
       "  </tbody>\n",
       "</table>\n",
       "</div>"
      ],
      "text/plain": [
       "Empty DataFrame\n",
       "Columns: [rad, q, r]\n",
       "Index: []"
      ]
     },
     "execution_count": 113,
     "metadata": {},
     "output_type": "execute_result"
    }
   ],
   "source": [
    "inp=pd.DataFrame(columns=['rad','q','r'])\n",
    "inp"
   ]
  },
  {
   "cell_type": "code",
   "execution_count": 114,
   "id": "2b6541d4",
   "metadata": {},
   "outputs": [
    {
     "data": {
      "text/html": [
       "<div>\n",
       "<style scoped>\n",
       "    .dataframe tbody tr th:only-of-type {\n",
       "        vertical-align: middle;\n",
       "    }\n",
       "\n",
       "    .dataframe tbody tr th {\n",
       "        vertical-align: top;\n",
       "    }\n",
       "\n",
       "    .dataframe thead th {\n",
       "        text-align: right;\n",
       "    }\n",
       "</style>\n",
       "<table border=\"1\" class=\"dataframe\">\n",
       "  <thead>\n",
       "    <tr style=\"text-align: right;\">\n",
       "      <th></th>\n",
       "      <th>nq</th>\n",
       "      <th>nr</th>\n",
       "    </tr>\n",
       "  </thead>\n",
       "  <tbody>\n",
       "  </tbody>\n",
       "</table>\n",
       "</div>"
      ],
      "text/plain": [
       "Empty DataFrame\n",
       "Columns: [nq, nr]\n",
       "Index: []"
      ]
     },
     "execution_count": 114,
     "metadata": {},
     "output_type": "execute_result"
    }
   ],
   "source": [
    "out=pd.DataFrame(columns=['nq','nr'])\n",
    "out"
   ]
  },
  {
   "cell_type": "code",
   "execution_count": 115,
   "id": "deeeec7f",
   "metadata": {},
   "outputs": [],
   "source": [
    "rows = [\n",
    "    pd.Series(data={'rad':2,'q':5,'r':-2,'nq':1,'nr':-1}),\n",
    "    pd.Series(data={'rad':2,'q':2,'r':3,'nq':1,'nr':0}),\n",
    "    pd.Series(data={'rad':2,'q':-3,'r':5,'nq':0,'nr':1}),\n",
    "    pd.Series(data={'rad':2,'q':-5,'r':2,'nq':-1,'nr':1}),\n",
    "    pd.Series(data={'rad':2,'q':-2,'r':-3,'nq':-1,'nr':0}),\n",
    "    pd.Series(data={'rad':2,'q':3,'r':-5,'nq':0,'nr':-1}),\n",
    "    \n",
    "    pd.Series(data={'rad':2,'q':1,'r':-8,'nq':-1,'nr':-1}),\n",
    "    pd.Series(data={'rad':2,'q':-4,'r':-6,'nq':-2,'nr':0}),\n",
    "    pd.Series(data={'rad':2,'q':-7,'r':-1,'nq':-2,'nr':1}),\n",
    "    pd.Series(data={'rad':2,'q':-10,'r':4,'nq':-2,'nr':2}),\n",
    "    pd.Series(data={'rad':2,'q':-8,'r':7,'nq':-1,'nr':2}),\n",
    "    pd.Series(data={'rad':2,'q':-6,'r':10,'nq':0,'nr':2}),\n",
    "    pd.Series(data={'rad':2,'q':-1,'r':8,'nq':1,'nr':1}),\n",
    "    pd.Series(data={'rad':2,'q':4,'r':6,'nq':2,'nr':0}),\n",
    "    pd.Series(data={'rad':2,'q':7,'r':1,'nq':2,'nr':-1}),\n",
    "    pd.Series(data={'rad':2,'q':10,'r':-4,'nq':2,'nr':-2}),\n",
    "    pd.Series(data={'rad':2,'q':8,'r':-7,'nq':1,'nr':-2}),\n",
    "    pd.Series(data={'rad':2,'q':6,'r':-10,'nq':0,'nr':-2}),\n",
    "    \n",
    "    pd.Series(data={'rad':2,'q':12,'r':16,'nq':6,'nr':0}),\n",
    "    pd.Series(data={'rad':2,'q':13,'r':16,'nq':6,'nr':0}),\n",
    "    pd.Series(data={'rad':2,'q':14,'r':16,'nq':6,'nr':0}),\n",
    "    \n",
    "    pd.Series(data={'rad':2,'q':11,'r':17,'nq':6,'nr':0}),\n",
    "    pd.Series(data={'rad':2,'q':12,'r':17,'nq':6,'nr':0}),\n",
    "    pd.Series(data={'rad':2,'q':13,'r':17,'nq':6,'nr':0}),\n",
    "    pd.Series(data={'rad':2,'q':14,'r':17,'nq':6,'nr':0}),\n",
    "    \n",
    "    pd.Series(data={'rad':2,'q':10,'r':18,'nq':6,'nr':0}),\n",
    "    pd.Series(data={'rad':2,'q':11,'r':18,'nq':6,'nr':0}),\n",
    "    pd.Series(data={'rad':2,'q':12,'r':18,'nq':6,'nr':0}),\n",
    "    pd.Series(data={'rad':2,'q':13,'r':18,'nq':6,'nr':0}),\n",
    "    pd.Series(data={'rad':2,'q':14,'r':18,'nq':6,'nr':0}),\n",
    "    \n",
    "    pd.Series(data={'rad':2,'q':10,'r':19,'nq':6,'nr':0}),\n",
    "    pd.Series(data={'rad':2,'q':11,'r':19,'nq':6,'nr':0}),\n",
    "    pd.Series(data={'rad':2,'q':12,'r':19,'nq':6,'nr':0}),\n",
    "    pd.Series(data={'rad':2,'q':13,'r':19,'nq':6,'nr':0}),\n",
    "    \n",
    "    pd.Series(data={'rad':2,'q':10,'r':20,'nq':6,'nr':0}),\n",
    "    pd.Series(data={'rad':2,'q':11,'r':20,'nq':6,'nr':0}),\n",
    "    pd.Series(data={'rad':2,'q':12,'r':20,'nq':6,'nr':0}),\n",
    "    \n",
    "    pd.Series(data={'rad':2,'q':-1,'r':6,'nq':1,'nr':1}),\n",
    "    pd.Series(data={'rad':2,'q':0,'r':6,'nq':1,'nr':1}),\n",
    "    pd.Series(data={'rad':2,'q':1,'r':6,'nq':1,'nr':1}),\n",
    "    \n",
    "    pd.Series(data={'rad':2,'q':-2,'r':7,'nq':1,'nr':1}),\n",
    "    pd.Series(data={'rad':2,'q':-1,'r':7,'nq':1,'nr':1}),\n",
    "    pd.Series(data={'rad':2,'q':0,'r':7,'nq':1,'nr':1}),\n",
    "    pd.Series(data={'rad':2,'q':1,'r':7,'nq':1,'nr':1}),\n",
    "    \n",
    "    pd.Series(data={'rad':2,'q':-3,'r':8,'nq':1,'nr':1}),\n",
    "    pd.Series(data={'rad':2,'q':-2,'r':8,'nq':1,'nr':1}),\n",
    "    pd.Series(data={'rad':2,'q':-1,'r':8,'nq':1,'nr':1}),\n",
    "    pd.Series(data={'rad':2,'q':0,'r':8,'nq':1,'nr':1}),\n",
    "    pd.Series(data={'rad':2,'q':1,'r':8,'nq':1,'nr':1}),\n",
    "    \n",
    "    pd.Series(data={'rad':2,'q':-3,'r':9,'nq':1,'nr':1}),\n",
    "    pd.Series(data={'rad':2,'q':-2,'r':9,'nq':1,'nr':1}),\n",
    "    pd.Series(data={'rad':2,'q':-1,'r':9,'nq':1,'nr':1}),\n",
    "    pd.Series(data={'rad':2,'q':0,'r':9,'nq':1,'nr':1}),\n",
    "    \n",
    "    pd.Series(data={'rad':2,'q':-3,'r':10,'nq':1,'nr':1}),\n",
    "    pd.Series(data={'rad':2,'q':-2,'r':10,'nq':1,'nr':1}),\n",
    "    pd.Series(data={'rad':2,'q':-1,'r':10,'nq':1,'nr':1}),\n",
    "]"
   ]
  },
  {
   "cell_type": "code",
   "execution_count": 116,
   "id": "30d8d4bc",
   "metadata": {},
   "outputs": [],
   "source": [
    "for r in rows:\n",
    "    inp.loc[len(inp)]=r\n",
    "    out.loc[len(out)]=r"
   ]
  },
  {
   "cell_type": "code",
   "execution_count": 117,
   "id": "bf76dfb8",
   "metadata": {},
   "outputs": [],
   "source": [
    "reg=LinearRegression().fit(inp,out)"
   ]
  },
  {
   "cell_type": "code",
   "execution_count": 118,
   "id": "b232cd58",
   "metadata": {},
   "outputs": [
    {
     "name": "stdout",
     "output_type": "stream",
     "text": [
      "[[ 0.          0.25704057  0.16037903]\n",
      " [ 0.         -0.14722979  0.09693722]] [0.00091567 0.03364355]\n"
     ]
    },
    {
     "data": {
      "text/plain": [
       "array([[ 0.        ,  0.25704057,  0.16037903],\n",
       "       [ 0.        , -0.14722979,  0.09693722]])"
      ]
     },
     "execution_count": 118,
     "metadata": {},
     "output_type": "execute_result"
    }
   ],
   "source": [
    "print(f'{reg.coef_} {reg.intercept_}')\n",
    "reg.coef_"
   ]
  },
  {
   "cell_type": "code",
   "execution_count": 119,
   "id": "50015ebd",
   "metadata": {},
   "outputs": [
    {
     "data": {
      "text/plain": [
       "array([[ 1., -1.],\n",
       "       [ 1.,  0.],\n",
       "       [ 0.,  1.],\n",
       "       [-1.,  1.],\n",
       "       [-1.,  0.],\n",
       "       [-0., -1.],\n",
       "       [-1., -1.],\n",
       "       [-2.,  0.],\n",
       "       [-2.,  1.],\n",
       "       [-2.,  2.],\n",
       "       [-1.,  2.],\n",
       "       [ 0.,  2.],\n",
       "       [ 1.,  1.],\n",
       "       [ 2.,  0.],\n",
       "       [ 2., -1.],\n",
       "       [ 2., -2.],\n",
       "       [ 1., -2.],\n",
       "       [-0., -2.],\n",
       "       [ 6., -0.],\n",
       "       [ 6., -0.],\n",
       "       [ 6., -0.],\n",
       "       [ 6.,  0.],\n",
       "       [ 6., -0.],\n",
       "       [ 6., -0.],\n",
       "       [ 6., -0.],\n",
       "       [ 5.,  0.],\n",
       "       [ 6.,  0.],\n",
       "       [ 6.,  0.],\n",
       "       [ 6., -0.],\n",
       "       [ 6., -0.],\n",
       "       [ 6.,  0.],\n",
       "       [ 6.,  0.],\n",
       "       [ 6.,  0.],\n",
       "       [ 6., -0.],\n",
       "       [ 6.,  1.],\n",
       "       [ 6.,  0.],\n",
       "       [ 6.,  0.],\n",
       "       [ 1.,  1.],\n",
       "       [ 1.,  1.],\n",
       "       [ 1.,  0.],\n",
       "       [ 1.,  1.],\n",
       "       [ 1.,  1.],\n",
       "       [ 1.,  1.],\n",
       "       [ 1.,  1.],\n",
       "       [ 1.,  1.],\n",
       "       [ 1.,  1.],\n",
       "       [ 1.,  1.],\n",
       "       [ 1.,  1.],\n",
       "       [ 2.,  1.],\n",
       "       [ 1.,  1.],\n",
       "       [ 1.,  1.],\n",
       "       [ 1.,  1.],\n",
       "       [ 1.,  1.],\n",
       "       [ 1.,  1.],\n",
       "       [ 1.,  1.],\n",
       "       [ 1.,  1.]])"
      ]
     },
     "execution_count": 119,
     "metadata": {},
     "output_type": "execute_result"
    }
   ],
   "source": [
    "np.round(reg.predict(inp))"
   ]
  },
  {
   "cell_type": "code",
   "execution_count": 109,
   "id": "506b712a",
   "metadata": {},
   "outputs": [
    {
     "data": {
      "text/plain": [
       "0.9609749274785326"
      ]
     },
     "execution_count": 109,
     "metadata": {},
     "output_type": "execute_result"
    }
   ],
   "source": [
    "reg.score(inp,out)"
   ]
  },
  {
   "cell_type": "code",
   "execution_count": 110,
   "id": "ba2cf6d5",
   "metadata": {},
   "outputs": [
    {
     "name": "stdout",
     "output_type": "stream",
     "text": [
      "[[-2  0]\n",
      " [-4 -1]\n",
      " [-5 -1]]\n",
      "[[ 6  0]\n",
      " [ 7 -1]\n",
      " [ 7  0]]\n"
     ]
    },
    {
     "name": "stderr",
     "output_type": "stream",
     "text": [
      "/home/tejag/.local/lib/python3.10/site-packages/sklearn/base.py:450: UserWarning: X does not have valid feature names, but LinearRegression was fitted with feature names\n",
      "  warnings.warn(\n",
      "/home/tejag/.local/lib/python3.10/site-packages/sklearn/base.py:450: UserWarning: X does not have valid feature names, but LinearRegression was fitted with feature names\n",
      "  warnings.warn(\n"
     ]
    }
   ],
   "source": [
    "print(reg.predict([[2,-1,-11],[2,-2,-22],[2,-4,-25]]).astype(int))\n",
    "print(reg.predict([[2,17,16],[2,22,14],[2,19,19]]).astype(int))"
   ]
  },
  {
   "cell_type": "code",
   "execution_count": 111,
   "id": "7de8c6ab",
   "metadata": {},
   "outputs": [
    {
     "name": "stdout",
     "output_type": "stream",
     "text": [
      "[[ 5.65146707 -0.1821184 ]\n",
      " [ 5.90850764 -0.32934819]\n",
      " [ 6.16554821 -0.47657798]]\n",
      "[[ 6. -0.]\n",
      " [ 6. -0.]\n",
      " [ 6. -0.]]\n",
      "[[ 5.55480554  0.06204861]\n",
      " [ 5.81184611 -0.08518118]\n",
      " [ 6.06888668 -0.23241097]\n",
      " [ 6.32592725 -0.37964076]]\n",
      "[[ 6.  0.]\n",
      " [ 6. -0.]\n",
      " [ 6. -0.]\n",
      " [ 6. -0.]]\n",
      "[[ 5.458144    0.30621563]\n",
      " [ 5.71518457  0.15898584]\n",
      " [ 5.97222514  0.01175604]\n",
      " [ 6.22926571 -0.13547375]\n",
      " [ 6.48630628 -0.28270354]]\n",
      "[[ 5.  0.]\n",
      " [ 6.  0.]\n",
      " [ 6.  0.]\n",
      " [ 6. -0.]\n",
      " [ 6. -0.]]\n",
      "[[ 5.61852304  0.40315285]\n",
      " [ 5.87556361  0.25592306]\n",
      " [ 6.13260418  0.10869327]\n",
      " [ 6.38964475 -0.03853653]]\n",
      "[[ 6.  0.]\n",
      " [ 6.  0.]\n",
      " [ 6.  0.]\n",
      " [ 6. -0.]]\n",
      "[[5.77890207 0.50009007]\n",
      " [6.03594264 0.35286028]\n",
      " [6.29298321 0.20563049]]\n",
      "[[6. 1.]\n",
      " [6. 0.]\n",
      " [6. 0.]]\n"
     ]
    },
    {
     "name": "stderr",
     "output_type": "stream",
     "text": [
      "/home/tejag/.local/lib/python3.10/site-packages/sklearn/base.py:450: UserWarning: X does not have valid feature names, but LinearRegression was fitted with feature names\n",
      "  warnings.warn(\n",
      "/home/tejag/.local/lib/python3.10/site-packages/sklearn/base.py:450: UserWarning: X does not have valid feature names, but LinearRegression was fitted with feature names\n",
      "  warnings.warn(\n",
      "/home/tejag/.local/lib/python3.10/site-packages/sklearn/base.py:450: UserWarning: X does not have valid feature names, but LinearRegression was fitted with feature names\n",
      "  warnings.warn(\n",
      "/home/tejag/.local/lib/python3.10/site-packages/sklearn/base.py:450: UserWarning: X does not have valid feature names, but LinearRegression was fitted with feature names\n",
      "  warnings.warn(\n",
      "/home/tejag/.local/lib/python3.10/site-packages/sklearn/base.py:450: UserWarning: X does not have valid feature names, but LinearRegression was fitted with feature names\n",
      "  warnings.warn(\n",
      "/home/tejag/.local/lib/python3.10/site-packages/sklearn/base.py:450: UserWarning: X does not have valid feature names, but LinearRegression was fitted with feature names\n",
      "  warnings.warn(\n",
      "/home/tejag/.local/lib/python3.10/site-packages/sklearn/base.py:450: UserWarning: X does not have valid feature names, but LinearRegression was fitted with feature names\n",
      "  warnings.warn(\n",
      "/home/tejag/.local/lib/python3.10/site-packages/sklearn/base.py:450: UserWarning: X does not have valid feature names, but LinearRegression was fitted with feature names\n",
      "  warnings.warn(\n",
      "/home/tejag/.local/lib/python3.10/site-packages/sklearn/base.py:450: UserWarning: X does not have valid feature names, but LinearRegression was fitted with feature names\n",
      "  warnings.warn(\n",
      "/home/tejag/.local/lib/python3.10/site-packages/sklearn/base.py:450: UserWarning: X does not have valid feature names, but LinearRegression was fitted with feature names\n",
      "  warnings.warn(\n"
     ]
    }
   ],
   "source": [
    "print(reg.predict([[2,12,16],[2,13,16],[2,14,16]]))\n",
    "print(np.around(reg.predict([[2,12,16],[2,13,16],[2,14,16]])))\n",
    "\n",
    "print(reg.predict([[2,11,17],[2,12,17],[2,13,17],[2,14,17]]))\n",
    "print(np.around(reg.predict([[2,11,17],[2,12,17],[2,13,17],[2,14,17]])))\n",
    "\n",
    "print(reg.predict([[2,10,18],[2,11,18],[2,12,18],[2,13,18],[2,14,18]]))\n",
    "print(np.around(reg.predict([[2,10,18],[2,11,18],[2,12,18],[2,13,18],[2,14,18]])))\n",
    "\n",
    "print(reg.predict([[2,10,19],[2,11,19],[2,12,19],[2,13,19]]))\n",
    "print(np.around(reg.predict([[2,10,19],[2,11,19],[2,12,19],[2,13,19]])))\n",
    "\n",
    "print(reg.predict([[2,10,20],[2,11,20],[2,12,20]]))\n",
    "print(np.around(reg.predict([[2,10,20],[2,11,20],[2,12,20]])))"
   ]
  },
  {
   "cell_type": "code",
   "execution_count": 72,
   "id": "8ee1142c",
   "metadata": {},
   "outputs": [
    {
     "name": "stdout",
     "output_type": "stream",
     "text": [
      "[[ 6.47368421 -0.68421053]\n",
      " [ 6.73684211 -0.84210526]\n",
      " [ 7.         -1.        ]\n",
      " [ 7.26315789 -1.15789474]\n",
      " [ 7.52631579 -1.31578947]]\n",
      "[[ 6.63157895 -0.57894737]\n",
      " [ 6.89473684 -0.73684211]\n",
      " [ 7.15789474 -0.89473684]\n",
      " [ 7.42105263 -1.05263158]]\n"
     ]
    },
    {
     "name": "stderr",
     "output_type": "stream",
     "text": [
      "/home/tejag/.local/lib/python3.10/site-packages/sklearn/base.py:450: UserWarning: X does not have valid feature names, but LinearRegression was fitted with feature names\n",
      "  warnings.warn(\n",
      "/home/tejag/.local/lib/python3.10/site-packages/sklearn/base.py:450: UserWarning: X does not have valid feature names, but LinearRegression was fitted with feature names\n",
      "  warnings.warn(\n"
     ]
    }
   ],
   "source": [
    "print(reg.predict([[2,15,16],[2,16,16],[2,17,16],[2,18,16],[2,19,16]]))\n",
    "print(np.around(reg.predict([[2,15,16],[2,16,16],[2,17,16],[2,18,16],[2,19,16]])))"
   ]
  },
  {
   "cell_type": "code",
   "execution_count": 53,
   "id": "1fa6dfad",
   "metadata": {
    "scrolled": true
   },
   "outputs": [
    {
     "name": "stderr",
     "output_type": "stream",
     "text": [
      "/home/tejag/.local/lib/python3.10/site-packages/sklearn/base.py:450: UserWarning: X does not have valid feature names, but LinearRegression was fitted with feature names\n",
      "  warnings.warn(\n"
     ]
    },
    {
     "data": {
      "text/plain": [
       "array([[ 0, -2],\n",
       "       [-1, -1],\n",
       "       [-1, -2],\n",
       "       [-3, -3]])"
      ]
     },
     "execution_count": 53,
     "metadata": {},
     "output_type": "execute_result"
    }
   ],
   "source": [
    "#[2,6,-10],[2,1,-8],[2,4,-13],[2,3,-24]\n",
    "reg.predict([[2,6,-10],[2,1,-8],[2,4,-13],[2,3,-24],]).astype(int)"
   ]
  },
  {
   "cell_type": "code",
   "execution_count": 54,
   "id": "9efa7654",
   "metadata": {},
   "outputs": [
    {
     "name": "stderr",
     "output_type": "stream",
     "text": [
      "/home/tejag/.local/lib/python3.10/site-packages/sklearn/base.py:450: UserWarning: X does not have valid feature names, but LinearRegression was fitted with feature names\n",
      "  warnings.warn(\n"
     ]
    },
    {
     "data": {
      "text/plain": [
       "array([[ 2,  0],\n",
       "       [ 2, -2],\n",
       "       [ 0, -2]])"
      ]
     },
     "execution_count": 54,
     "metadata": {},
     "output_type": "execute_result"
    }
   ],
   "source": [
    "reg.predict([[5,5,6],[5,11,-5],[5,6,-11]]).astype(int)"
   ]
  },
  {
   "cell_type": "code",
   "execution_count": 31,
   "id": "93325ec7",
   "metadata": {},
   "outputs": [
    {
     "name": "stderr",
     "output_type": "stream",
     "text": [
      "/home/tejag/.local/lib/python3.10/site-packages/sklearn/base.py:450: UserWarning: X does not have valid feature names, but LinearRegression was fitted with feature names\n",
      "  warnings.warn(\n"
     ]
    },
    {
     "data": {
      "text/plain": [
       "array([[4, 0]])"
      ]
     },
     "execution_count": 31,
     "metadata": {},
     "output_type": "execute_result"
    }
   ],
   "source": [
    "reg.predict([[10,10,11],]).astype(int)"
   ]
  },
  {
   "cell_type": "code",
   "execution_count": 21,
   "id": "2ba89c4d",
   "metadata": {},
   "outputs": [],
   "source": [
    "qx=0.26315789\n",
    "qy=0.15789474\n",
    "\n",
    "rx=-0.15789474\n",
    "ry=0.10526316"
   ]
  },
  {
   "cell_type": "code",
   "execution_count": 22,
   "id": "688d9a1b",
   "metadata": {},
   "outputs": [
    {
     "name": "stdout",
     "output_type": "stream",
     "text": [
      "-6.000000007944095e-08\n",
      "-2.0000000399999998\n"
     ]
    }
   ],
   "source": [
    "q=6\n",
    "r=-10\n",
    "print(q*qx+r*qy)\n",
    "print(q*rx+r*ry)"
   ]
  },
  {
   "cell_type": "code",
   "execution_count": 23,
   "id": "0c6b1db7",
   "metadata": {},
   "outputs": [
    {
     "name": "stdout",
     "output_type": "stream",
     "text": [
      "-1.00000003\n",
      "-1.0000000199999999\n"
     ]
    }
   ],
   "source": [
    "q=1\n",
    "r=-8\n",
    "print(q*qx+r*qy)\n",
    "print(q*rx+r*ry)"
   ]
  },
  {
   "cell_type": "code",
   "execution_count": null,
   "id": "4fd4fbb8",
   "metadata": {},
   "outputs": [],
   "source": []
  }
 ],
 "metadata": {
  "kernelspec": {
   "display_name": "Python 3 (ipykernel)",
   "language": "python",
   "name": "python3"
  },
  "language_info": {
   "codemirror_mode": {
    "name": "ipython",
    "version": 3
   },
   "file_extension": ".py",
   "mimetype": "text/x-python",
   "name": "python",
   "nbconvert_exporter": "python",
   "pygments_lexer": "ipython3",
   "version": "3.10.6"
  }
 },
 "nbformat": 4,
 "nbformat_minor": 5
}
