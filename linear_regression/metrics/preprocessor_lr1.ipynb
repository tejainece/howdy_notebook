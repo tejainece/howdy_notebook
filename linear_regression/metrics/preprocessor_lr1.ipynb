{
 "cells": [
  {
   "cell_type": "code",
   "execution_count": 57,
   "id": "1a89572b",
   "metadata": {},
   "outputs": [],
   "source": [
    "import numpy as np\n",
    "from sklearn import metrics, preprocessing"
   ]
  },
  {
   "cell_type": "code",
   "execution_count": 58,
   "id": "1281d993",
   "metadata": {},
   "outputs": [
    {
     "name": "stdout",
     "output_type": "stream",
     "text": [
      "[[1 1]\n",
      " [1 2]\n",
      " [2 2]\n",
      " [0 1]]\n",
      "[[0.5        0.5       ]\n",
      " [0.33333333 0.66666667]\n",
      " [0.5        0.5       ]\n",
      " [0.         1.        ]]\n",
      "[1.33333333 2.66666667]\n",
      "[1. 1. 1. 1.]\n"
     ]
    }
   ],
   "source": [
    "x2=np.array([[1,1],[1,2],[2,2],[0,1]])\n",
    "print(x2)\n",
    "y2=preprocessing.normalize(x2,norm='l1')\n",
    "print(y2)\n",
    "print(y2.sum(axis=0))\n",
    "print(y2.sum(axis=1))"
   ]
  },
  {
   "cell_type": "code",
   "execution_count": 59,
   "id": "4cea1df5",
   "metadata": {},
   "outputs": [
    {
     "name": "stdout",
     "output_type": "stream",
     "text": [
      "[[1 1]\n",
      " [1 2]\n",
      " [2 2]\n",
      " [0 1]]\n",
      "[[0.70710678 0.70710678]\n",
      " [0.4472136  0.89442719]\n",
      " [0.70710678 0.70710678]\n",
      " [0.         1.        ]]\n",
      "[1.86142716 3.30864075]\n",
      "[1.41421356 1.34164079 1.41421356 1.        ]\n"
     ]
    }
   ],
   "source": [
    "x2=np.array([[1,1],[1,2],[2,2],[0,1]])\n",
    "print(x2)\n",
    "y2=preprocessing.normalize(x2,norm='l2')\n",
    "print(y2)\n",
    "print(y2.sum(axis=0))\n",
    "print(y2.sum(axis=1))"
   ]
  },
  {
   "cell_type": "code",
   "execution_count": 64,
   "id": "855b58f5",
   "metadata": {},
   "outputs": [
    {
     "data": {
      "text/plain": [
       "0.5"
      ]
     },
     "execution_count": 64,
     "metadata": {},
     "output_type": "execute_result"
    }
   ],
   "source": [
    "1/np.sqrt(4)"
   ]
  },
  {
   "cell_type": "code",
   "execution_count": null,
   "id": "d4bb4f47",
   "metadata": {},
   "outputs": [],
   "source": []
  }
 ],
 "metadata": {
  "kernelspec": {
   "display_name": "Python 3 (ipykernel)",
   "language": "python",
   "name": "python3"
  },
  "language_info": {
   "codemirror_mode": {
    "name": "ipython",
    "version": 3
   },
   "file_extension": ".py",
   "mimetype": "text/x-python",
   "name": "python",
   "nbconvert_exporter": "python",
   "pygments_lexer": "ipython3",
   "version": "3.10.6"
  }
 },
 "nbformat": 4,
 "nbformat_minor": 5
}
