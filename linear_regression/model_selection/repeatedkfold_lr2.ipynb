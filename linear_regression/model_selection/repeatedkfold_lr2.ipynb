{
 "cells": [
  {
   "cell_type": "code",
   "execution_count": 29,
   "id": "658ea8f5",
   "metadata": {},
   "outputs": [],
   "source": [
    "import numpy as np\n",
    "from sklearn import model_selection"
   ]
  },
  {
   "cell_type": "code",
   "execution_count": 60,
   "id": "16aae463",
   "metadata": {},
   "outputs": [
    {
     "name": "stdout",
     "output_type": "stream",
     "text": [
      "train: [ 3  4  5  6  7  8  9 10 11], test: [0 1 2]\n",
      "train: [ 0  1  2  6  7  8  9 10 11], test: [3 4 5]\n",
      "train: [ 0  1  2  3  4  5  9 10 11], test: [6 7 8]\n",
      "train: [0 1 2 3 4 5 6 7 8], test: [ 9 10 11]\n"
     ]
    }
   ],
   "source": [
    "x=np.arange(12)\n",
    "for train, test in model_selection.KFold(n_splits=5).split(x):\n",
    "    print(f'train: {train}, test: {test}')"
   ]
  },
  {
   "cell_type": "code",
   "execution_count": 80,
   "id": "625ea81a",
   "metadata": {},
   "outputs": [
    {
     "name": "stdout",
     "output_type": "stream",
     "text": [
      "train: [ 3  4  5  6  7  8  9 10 11], test: [0 1 2]\n",
      "train: [ 0  1  2  6  7  8  9 10 11], test: [3 4 5]\n",
      "train: [ 0  1  2  3  4  5  8  9 10 11], test: [6 7]\n",
      "train: [ 0  1  2  3  4  5  6  7 10 11], test: [8 9]\n",
      "train: [0 1 2 3 4 5 6 7 8 9], test: [10 11]\n"
     ]
    }
   ],
   "source": [
    "x=np.arange(12)\n",
    "for train, test in model_selection.KFold(n_splits=5).split(x):\n",
    "    print(f'train: {train}, test: {test}')"
   ]
  },
  {
   "cell_type": "code",
   "execution_count": 38,
   "id": "fbb1241e",
   "metadata": {},
   "outputs": [
    {
     "data": {
      "text/plain": [
       "10"
      ]
     },
     "execution_count": 38,
     "metadata": {},
     "output_type": "execute_result"
    }
   ],
   "source": [
    "model_selection.KFold(n_splits=10).get_n_splits(x)"
   ]
  },
  {
   "cell_type": "code",
   "execution_count": 50,
   "id": "e45908d2",
   "metadata": {},
   "outputs": [
    {
     "name": "stdout",
     "output_type": "stream",
     "text": [
      "train: [ 1  2  3  7  9 11], test: [ 0  4  5  6  8 10]\n",
      "train: [ 0  4  5  6  8 10], test: [ 1  2  3  7  9 11]\n",
      "train: [ 3  4  6  7  9 10], test: [ 0  1  2  5  8 11]\n",
      "train: [ 0  1  2  5  8 11], test: [ 3  4  6  7  9 10]\n",
      "train: [ 1  2  6  8  9 11], test: [ 0  3  4  5  7 10]\n",
      "train: [ 0  3  4  5  7 10], test: [ 1  2  6  8  9 11]\n",
      "train: [ 1  4  8  9 10 11], test: [0 2 3 5 6 7]\n",
      "train: [0 2 3 5 6 7], test: [ 1  4  8  9 10 11]\n",
      "train: [ 0  4  5  6 10 11], test: [1 2 3 7 8 9]\n",
      "train: [1 2 3 7 8 9], test: [ 0  4  5  6 10 11]\n"
     ]
    }
   ],
   "source": [
    "x=np.arange(8)\n",
    "for train, test in model_selection.RepeatedKFold(n_splits=2,n_repeats=5).split(x):\n",
    "    print(f'train: {train}, test: {test}')"
   ]
  },
  {
   "cell_type": "code",
   "execution_count": 67,
   "id": "9dbfd2dd",
   "metadata": {},
   "outputs": [
    {
     "name": "stdout",
     "output_type": "stream",
     "text": [
      "train: [0 1 2 5 6], test: [3 4 7]\n",
      "train: [2 3 4 6 7], test: [0 1 5]\n",
      "train: [0 1 3 4 5 7], test: [2 6]\n",
      "train: [0 1 2 4 7], test: [3 5 6]\n",
      "train: [1 2 3 5 6], test: [0 4 7]\n",
      "train: [0 3 4 5 6 7], test: [1 2]\n"
     ]
    }
   ],
   "source": [
    "x=np.arange(8)\n",
    "for train, test in model_selection.RepeatedKFold(n_splits=3,n_repeats=2,random_state=4).split(x):\n",
    "    print(f'train: {train}, test: {test}')"
   ]
  },
  {
   "cell_type": "code",
   "execution_count": 92,
   "id": "f98e3b8d",
   "metadata": {},
   "outputs": [
    {
     "name": "stdout",
     "output_type": "stream",
     "text": [
      "-------\n",
      "2\n",
      "2\n",
      "[0, 1]\n",
      "[2, 3, 4]\n",
      "[5, 6, 7]\n",
      "-------\n",
      "6\n",
      "0\n",
      "[0, 1, 2, 3, 4, 5]\n",
      "[6, 7, 8, 9, 10, 11]\n",
      "-------\n",
      "4\n",
      "0\n",
      "[0, 1, 2, 3]\n",
      "[4, 5, 6, 7]\n",
      "[8, 9, 10, 11]\n",
      "-------\n",
      "2\n",
      "2\n",
      "[0, 1]\n",
      "[2, 3]\n",
      "[4, 5]\n",
      "[6, 7, 8]\n",
      "[9, 10, 11]\n"
     ]
    }
   ],
   "source": [
    "import math\n",
    "def split(x,y):\n",
    "    print('-------')\n",
    "    n=math.floor(x/y)\n",
    "    print(n)\n",
    "    m=x%y\n",
    "    print(m)\n",
    "    for i in range(y-m):\n",
    "        print([(i*n)+r for r in range(n)])\n",
    "    for i in range(m):\n",
    "        print([(y-m)*n+(i*(n+1))+r for r in range(n+1)])\n",
    "split(8,3)\n",
    "split(12,2)\n",
    "split(12,3)\n",
    "split(12,5)"
   ]
  },
  {
   "cell_type": "code",
   "execution_count": 83,
   "id": "134760f2",
   "metadata": {},
   "outputs": [
    {
     "name": "stdout",
     "output_type": "stream",
     "text": [
      "0\n",
      "1\n",
      "2\n",
      "3\n",
      "4\n"
     ]
    }
   ],
   "source": [
    "for i in range(5):\n",
    "    print(i)"
   ]
  },
  {
   "cell_type": "code",
   "execution_count": null,
   "id": "8ebd67cc",
   "metadata": {},
   "outputs": [],
   "source": []
  }
 ],
 "metadata": {
  "kernelspec": {
   "display_name": "Python 3 (ipykernel)",
   "language": "python",
   "name": "python3"
  },
  "language_info": {
   "codemirror_mode": {
    "name": "ipython",
    "version": 3
   },
   "file_extension": ".py",
   "mimetype": "text/x-python",
   "name": "python",
   "nbconvert_exporter": "python",
   "pygments_lexer": "ipython3",
   "version": "3.10.6"
  }
 },
 "nbformat": 4,
 "nbformat_minor": 5
}
