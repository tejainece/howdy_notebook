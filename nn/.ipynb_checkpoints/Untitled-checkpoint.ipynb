{
 "cells": [
  {
   "cell_type": "code",
   "execution_count": 12,
   "id": "11653c1c",
   "metadata": {},
   "outputs": [],
   "source": [
    "import tensorflow as tf\n",
    "sess_cpu = tf.compat.v1.Session(config=tf.compat.v1.ConfigProto(device_count={'GPU': 0}))"
   ]
  },
  {
   "cell_type": "raw",
   "id": "99cf757e",
   "metadata": {},
   "source": [
    "import keras\n",
    "from keras.models import Sequential\n",
    "from keras.layers import Dense, Activation\n",
    "import numpy as np"
   ]
  },
  {
   "cell_type": "code",
   "execution_count": 13,
   "id": "7efdd479",
   "metadata": {},
   "outputs": [],
   "source": [
    "model = Sequential([\n",
    "    Dense(1, activation=keras.activations.linear, input_shape=[2]),\n",
    "])"
   ]
  },
  {
   "cell_type": "code",
   "execution_count": 16,
   "id": "9c2ee4ab",
   "metadata": {},
   "outputs": [
    {
     "data": {
      "text/plain": [
       "array([8, 0, 2, 1, 9, 5, 2, 5, 0, 4])"
      ]
     },
     "execution_count": 16,
     "metadata": {},
     "output_type": "execute_result"
    }
   ],
   "source": [
    "#x = np.random.randint(0, 50, 100)\n",
    "x = np.array([8, 0, 2, 1, 9, 5, 2, 5, 0, 4, 5, 9, 9, 2, 4, 9, 7, 9, 0, 7, 5, 4, 0, 3, 4, 7, 2, 2, 5, 4, 2, 2, 4, 8, 1, 9, 4, 4, 0, 9, 2, 9, 3, 0, 0, 5, 6, 3, 5, 5, 8, 5, 0, 0, 4, 8, 7, 3, 1, 2, 2, 8, 0, 3, 9, 9, 4, 2, 3, 9, 4, 7, 4, 6, 8, 6, 3, 8, 1, 3, 2, 2, 0, 7, 9, 9, 3, 8, 9, 2, 2, 0, 7, 4, 8, 3, 9, 6, 4, 7])\n",
    "x"
   ]
  },
  {
   "cell_type": "code",
   "execution_count": 15,
   "id": "6ab1a459",
   "metadata": {},
   "outputs": [
    {
     "data": {
      "text/plain": [
       "array([  7, 222, 192,  67, 227, 237, 182,   7, 212, 112,  67, 227, 237,\n",
       "       207, 192, 182, 222, 117,  77,  12, 137, 137, 202,  27,  97, 122,\n",
       "        17,  97,   2, 192, 117, 162,  92,   7, 102,  22, 132,  27, 192,\n",
       "       122, 242, 162,  17,  87, 132, 132,  97, 167,  52, 217,  47, 137,\n",
       "       177, 242, 137, 147, 217,  87,   2,   7, 247, 177, 132,  47,   2,\n",
       "        42, 197, 247, 197, 187,  27,  42, 197,   2, 122, 102, 157, 117,\n",
       "       167, 142, 182, 117, 212, 242, 127, 117, 172, 212, 157, 237,  57,\n",
       "         2, 192,  67, 192,  72, 232, 247,  62,  37])"
      ]
     },
     "execution_count": 15,
     "metadata": {},
     "output_type": "execute_result"
    }
   ],
   "source": [
    "y = x * 5 + 2\n",
    "y"
   ]
  },
  {
   "cell_type": "code",
   "execution_count": null,
   "id": "92b23351",
   "metadata": {},
   "outputs": [],
   "source": []
  }
 ],
 "metadata": {
  "kernelspec": {
   "display_name": "Python 3 (ipykernel)",
   "language": "python",
   "name": "python3"
  },
  "language_info": {
   "codemirror_mode": {
    "name": "ipython",
    "version": 3
   },
   "file_extension": ".py",
   "mimetype": "text/x-python",
   "name": "python",
   "nbconvert_exporter": "python",
   "pygments_lexer": "ipython3",
   "version": "3.9.7"
  }
 },
 "nbformat": 4,
 "nbformat_minor": 5
}
